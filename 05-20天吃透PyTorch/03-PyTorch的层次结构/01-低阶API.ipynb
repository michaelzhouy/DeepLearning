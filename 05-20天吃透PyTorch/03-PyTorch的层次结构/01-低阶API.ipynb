{
 "cells": [
  {
   "cell_type": "code",
   "execution_count": 1,
   "id": "81a41f35",
   "metadata": {
    "ExecuteTime": {
     "end_time": "2021-06-17T01:10:51.743079Z",
     "start_time": "2021-06-17T01:10:49.971473Z"
    }
   },
   "outputs": [],
   "source": [
    "import numpy as np\n",
    "import pandas as pd\n",
    "import matplotlib.pyplot as plt\n",
    "import torch\n",
    "from torch import nn\n",
    "import os\n",
    "import datetime\n",
    "%matplotlib inline\n",
    "\n",
    "os.environ[\"KMP_DUPLICATE_LIB_OK\"]=\"TRUE\""
   ]
  },
  {
   "cell_type": "code",
   "execution_count": 2,
   "id": "3f7d1b3f",
   "metadata": {
    "ExecuteTime": {
     "end_time": "2021-06-17T01:10:51.749594Z",
     "start_time": "2021-06-17T01:10:51.745380Z"
    }
   },
   "outputs": [],
   "source": [
    "n = 400 # 样本数量\n",
    "X = 10 * torch.rand([n, 2]) - 5.0\n",
    "w0 = torch.tensor([[2.0], [-3.0]])\n",
    "b0 = torch.tensor([[10.0]])"
   ]
  },
  {
   "cell_type": "code",
   "execution_count": 3,
   "id": "8412c4ae",
   "metadata": {
    "ExecuteTime": {
     "end_time": "2021-06-17T01:10:51.760364Z",
     "start_time": "2021-06-17T01:10:51.754332Z"
    },
    "scrolled": false
   },
   "outputs": [
    {
     "data": {
      "text/plain": [
       "torch.Size([400, 2])"
      ]
     },
     "execution_count": 3,
     "metadata": {},
     "output_type": "execute_result"
    }
   ],
   "source": [
    "X.shape"
   ]
  },
  {
   "cell_type": "code",
   "execution_count": 4,
   "id": "79c86a79",
   "metadata": {
    "ExecuteTime": {
     "end_time": "2021-06-17T01:10:51.766840Z",
     "start_time": "2021-06-17T01:10:51.763339Z"
    }
   },
   "outputs": [
    {
     "data": {
      "text/plain": [
       "torch.Size([2, 1])"
      ]
     },
     "execution_count": 4,
     "metadata": {},
     "output_type": "execute_result"
    }
   ],
   "source": [
    "w0.shape"
   ]
  },
  {
   "cell_type": "code",
   "execution_count": 5,
   "id": "56000d99",
   "metadata": {
    "ExecuteTime": {
     "end_time": "2021-06-17T01:10:51.773610Z",
     "start_time": "2021-06-17T01:10:51.768657Z"
    }
   },
   "outputs": [
    {
     "data": {
      "text/plain": [
       "torch.Size([400, 1])"
      ]
     },
     "execution_count": 5,
     "metadata": {},
     "output_type": "execute_result"
    }
   ],
   "source": [
    "torch.normal(0.0, 2.0, size=[n, 1]).shape"
   ]
  },
  {
   "cell_type": "code",
   "execution_count": 6,
   "id": "b8ef7e68",
   "metadata": {
    "ExecuteTime": {
     "end_time": "2021-06-17T01:10:51.779426Z",
     "start_time": "2021-06-17T01:10:51.775292Z"
    }
   },
   "outputs": [],
   "source": [
    "Y = torch.mm(X, w0) + b0 + torch.normal(0.0, 2.0, size=[n, 1])"
   ]
  },
  {
   "cell_type": "code",
   "execution_count": 7,
   "id": "46b9b304",
   "metadata": {
    "ExecuteTime": {
     "end_time": "2021-06-17T01:10:51.788315Z",
     "start_time": "2021-06-17T01:10:51.780917Z"
    }
   },
   "outputs": [
    {
     "data": {
      "text/plain": [
       "tensor([[ 0.,  1.,  2.,  3.],\n",
       "        [ 4.,  5.,  6.,  7.],\n",
       "        [ 8.,  9., 10., 11.],\n",
       "        [12., 13., 14., 15.],\n",
       "        [16., 17., 18., 19.]])"
      ]
     },
     "execution_count": 7,
     "metadata": {},
     "output_type": "execute_result"
    }
   ],
   "source": [
    "A = torch.arange(20).reshape(5, 4).float()\n",
    "A"
   ]
  },
  {
   "cell_type": "code",
   "execution_count": 8,
   "id": "b4ad3013",
   "metadata": {
    "ExecuteTime": {
     "end_time": "2021-06-17T01:10:51.797161Z",
     "start_time": "2021-06-17T01:10:51.792583Z"
    }
   },
   "outputs": [
    {
     "data": {
      "text/plain": [
       "tensor([[1., 1., 1.],\n",
       "        [1., 1., 1.],\n",
       "        [1., 1., 1.],\n",
       "        [1., 1., 1.]])"
      ]
     },
     "execution_count": 8,
     "metadata": {},
     "output_type": "execute_result"
    }
   ],
   "source": [
    "B = torch.ones(4, 3)\n",
    "B"
   ]
  },
  {
   "cell_type": "code",
   "execution_count": 9,
   "id": "c7b16753",
   "metadata": {
    "ExecuteTime": {
     "end_time": "2021-06-17T01:10:51.802623Z",
     "start_time": "2021-06-17T01:10:51.799190Z"
    }
   },
   "outputs": [
    {
     "data": {
      "text/plain": [
       "(torch.Size([5, 4]), torch.Size([4, 3]))"
      ]
     },
     "execution_count": 9,
     "metadata": {},
     "output_type": "execute_result"
    }
   ],
   "source": [
    "A.shape, B.shape"
   ]
  },
  {
   "cell_type": "code",
   "execution_count": 10,
   "id": "67616f49",
   "metadata": {
    "ExecuteTime": {
     "end_time": "2021-06-17T01:10:51.812167Z",
     "start_time": "2021-06-17T01:10:51.805890Z"
    }
   },
   "outputs": [
    {
     "data": {
      "text/plain": [
       "tensor([[ 6.,  6.,  6.],\n",
       "        [22., 22., 22.],\n",
       "        [38., 38., 38.],\n",
       "        [54., 54., 54.],\n",
       "        [70., 70., 70.]])"
      ]
     },
     "execution_count": 10,
     "metadata": {},
     "output_type": "execute_result"
    }
   ],
   "source": [
    "torch.mm(A, B)"
   ]
  },
  {
   "cell_type": "code",
   "execution_count": 11,
   "id": "b5cbf627",
   "metadata": {
    "ExecuteTime": {
     "end_time": "2021-06-17T01:10:51.823046Z",
     "start_time": "2021-06-17T01:10:51.814429Z"
    }
   },
   "outputs": [
    {
     "name": "stdout",
     "output_type": "stream",
     "text": [
      "c, b, e =  tensor([[0.0834, 0.4315, 0.3190],\n",
      "        [0.0803, 0.4091, 0.2871]]) \n",
      " tensor([[0.0834, 0.4315, 0.3190],\n",
      "        [0.0803, 0.4091, 0.2871]]) \n",
      " tensor([[0.0834, 0.4315, 0.3190],\n",
      "        [0.0803, 0.4091, 0.2871]])\n"
     ]
    }
   ],
   "source": [
    "a = torch.rand(2, 2)\n",
    "# print(a)\n",
    "b = torch.rand(2, 3)\n",
    "c = torch.mm(a, b)\n",
    "d = torch.matmul(a, b)\n",
    "e = a@b\n",
    "print('c, b, e = ', c, '\\n', d, '\\n', e)"
   ]
  },
  {
   "cell_type": "code",
   "execution_count": null,
   "id": "f9642a2b",
   "metadata": {},
   "outputs": [],
   "source": []
  }
 ],
 "metadata": {
  "kernelspec": {
   "display_name": "Python 3",
   "language": "python",
   "name": "python3"
  },
  "language_info": {
   "codemirror_mode": {
    "name": "ipython",
    "version": 3
   },
   "file_extension": ".py",
   "mimetype": "text/x-python",
   "name": "python",
   "nbconvert_exporter": "python",
   "pygments_lexer": "ipython3",
   "version": "3.8.8"
  },
  "toc": {
   "base_numbering": 1,
   "nav_menu": {},
   "number_sections": true,
   "sideBar": true,
   "skip_h1_title": false,
   "title_cell": "Table of Contents",
   "title_sidebar": "Contents",
   "toc_cell": false,
   "toc_position": {},
   "toc_section_display": true,
   "toc_window_display": false
  }
 },
 "nbformat": 4,
 "nbformat_minor": 5
}
