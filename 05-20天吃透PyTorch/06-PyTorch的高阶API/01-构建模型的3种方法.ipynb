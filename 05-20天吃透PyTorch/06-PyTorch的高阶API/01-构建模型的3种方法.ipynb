{
 "cells": [
  {
   "cell_type": "code",
   "execution_count": 1,
   "id": "81a19368",
   "metadata": {
    "ExecuteTime": {
     "end_time": "2021-06-27T15:34:47.215313Z",
     "start_time": "2021-06-27T15:34:46.128279Z"
    }
   },
   "outputs": [],
   "source": [
    "import torch \n",
    "from torch import nn\n",
    "from torchkeras import summary\n",
    "from collections import OrderedDict"
   ]
  },
  {
   "cell_type": "markdown",
   "id": "f8706b68",
   "metadata": {},
   "source": [
    "## 继承nn.Module基类构建自定义模型"
   ]
  },
  {
   "cell_type": "code",
   "execution_count": 2,
   "id": "69bb994c",
   "metadata": {
    "ExecuteTime": {
     "end_time": "2021-06-27T15:34:47.226023Z",
     "start_time": "2021-06-27T15:34:47.219058Z"
    }
   },
   "outputs": [],
   "source": [
    "class Net(nn.Module):\n",
    "\n",
    "    def __init__(self):\n",
    "        super(Net, self).__init__()\n",
    "        self.conv1 = nn.Conv2d(in_channels=3, out_channels=32, kernel_size=3)\n",
    "        self.pool1 = nn.MaxPool2d(kernel_size=2, stride=2)\n",
    "        self.conv2 = nn.Conv2d(in_channels=32, out_channels=64, kernel_size=5)\n",
    "        self.pool2 = nn.MaxPool2d(kernel_size=2, stride=2)\n",
    "        self.dropout = nn.Dropout2d(p=0.1)\n",
    "        self.adaptive_pool = nn.AdaptiveMaxPool2d((1, 1))\n",
    "        self.flatten = nn.Flatten()\n",
    "        self.linear1 = nn.Linear(64, 32)\n",
    "        self.relu = nn.ReLU()\n",
    "        self.linear2 = nn.Linear(32, 1)\n",
    "        self.sigmoid = nn.Sigmoid()\n",
    "\n",
    "    def forward(self,x):\n",
    "        x = self.conv1(x)\n",
    "        x = self.pool1(x)\n",
    "        x = self.conv2(x)\n",
    "        x = self.pool2(x)\n",
    "        x = self.dropout(x)\n",
    "        x = self.adaptive_pool(x)\n",
    "        x = self.flatten(x)\n",
    "        x = self.linear1(x)\n",
    "        x = self.relu(x)\n",
    "        x = self.linear2(x)\n",
    "        y = self.sigmoid(x)\n",
    "        return y"
   ]
  },
  {
   "cell_type": "code",
   "execution_count": 3,
   "id": "aefb0c81",
   "metadata": {
    "ExecuteTime": {
     "end_time": "2021-06-27T15:34:47.237703Z",
     "start_time": "2021-06-27T15:34:47.228575Z"
    }
   },
   "outputs": [
    {
     "data": {
      "text/plain": [
       "Net(\n",
       "  (conv1): Conv2d(3, 32, kernel_size=(3, 3), stride=(1, 1))\n",
       "  (pool1): MaxPool2d(kernel_size=2, stride=2, padding=0, dilation=1, ceil_mode=False)\n",
       "  (conv2): Conv2d(32, 64, kernel_size=(5, 5), stride=(1, 1))\n",
       "  (pool2): MaxPool2d(kernel_size=2, stride=2, padding=0, dilation=1, ceil_mode=False)\n",
       "  (dropout): Dropout2d(p=0.1, inplace=False)\n",
       "  (adaptive_pool): AdaptiveMaxPool2d(output_size=(1, 1))\n",
       "  (flatten): Flatten(start_dim=1, end_dim=-1)\n",
       "  (linear1): Linear(in_features=64, out_features=32, bias=True)\n",
       "  (relu): ReLU()\n",
       "  (linear2): Linear(in_features=32, out_features=1, bias=True)\n",
       "  (sigmoid): Sigmoid()\n",
       ")"
      ]
     },
     "execution_count": 3,
     "metadata": {},
     "output_type": "execute_result"
    }
   ],
   "source": [
    "net = Net()\n",
    "net"
   ]
  },
  {
   "cell_type": "code",
   "execution_count": 4,
   "id": "7bd95733",
   "metadata": {
    "ExecuteTime": {
     "end_time": "2021-06-27T15:34:47.247582Z",
     "start_time": "2021-06-27T15:34:47.240094Z"
    }
   },
   "outputs": [
    {
     "name": "stdout",
     "output_type": "stream",
     "text": [
      "----------------------------------------------------------------\n",
      "        Layer (type)               Output Shape         Param #\n",
      "================================================================\n",
      "            Conv2d-1           [-1, 32, 30, 30]             896\n",
      "         MaxPool2d-2           [-1, 32, 15, 15]               0\n",
      "            Conv2d-3           [-1, 64, 11, 11]          51,264\n",
      "         MaxPool2d-4             [-1, 64, 5, 5]               0\n",
      "         Dropout2d-5             [-1, 64, 5, 5]               0\n",
      " AdaptiveMaxPool2d-6             [-1, 64, 1, 1]               0\n",
      "           Flatten-7                   [-1, 64]               0\n",
      "            Linear-8                   [-1, 32]           2,080\n",
      "              ReLU-9                   [-1, 32]               0\n",
      "           Linear-10                    [-1, 1]              33\n",
      "          Sigmoid-11                    [-1, 1]               0\n",
      "================================================================\n",
      "Total params: 54,273\n",
      "Trainable params: 54,273\n",
      "Non-trainable params: 0\n",
      "----------------------------------------------------------------\n",
      "Input size (MB): 0.011719\n",
      "Forward/backward pass size (MB): 0.359634\n",
      "Params size (MB): 0.207035\n",
      "Estimated Total Size (MB): 0.578388\n",
      "----------------------------------------------------------------\n"
     ]
    }
   ],
   "source": [
    "summary(net, input_shape=(3, 32, 32))"
   ]
  },
  {
   "cell_type": "markdown",
   "id": "4048536e",
   "metadata": {},
   "source": [
    "## 使用nn.Sequential按层顺序构建模型"
   ]
  },
  {
   "cell_type": "markdown",
   "id": "81937a2b",
   "metadata": {},
   "source": [
    "### 利用add_module方法"
   ]
  },
  {
   "cell_type": "code",
   "execution_count": 5,
   "id": "ea247849",
   "metadata": {
    "ExecuteTime": {
     "end_time": "2021-06-27T15:34:47.256435Z",
     "start_time": "2021-06-27T15:34:47.249263Z"
    }
   },
   "outputs": [],
   "source": [
    "net = nn.Sequential()\n",
    "net.add_module(\"conv1\", nn.Conv2d(in_channels=3, out_channels=32, kernel_size=3))\n",
    "net.add_module(\"pool1\", nn.MaxPool2d(kernel_size=2, stride=2))\n",
    "net.add_module(\"conv2\", nn.Conv2d(in_channels=32, out_channels=64, kernel_size=5))\n",
    "net.add_module(\"pool2\", nn.MaxPool2d(kernel_size=2, stride=2))\n",
    "net.add_module(\"dropout\", nn.Dropout2d(p=0.1))\n",
    "net.add_module(\"adaptive_pool\", nn.AdaptiveMaxPool2d((1, 1)))\n",
    "net.add_module(\"flatten\", nn.Flatten())\n",
    "net.add_module(\"linear1\", nn.Linear(64, 32))\n",
    "net.add_module(\"relu\", nn.ReLU())\n",
    "net.add_module(\"linear2\", nn.Linear(32, 1))\n",
    "net.add_module(\"sigmoid\", nn.Sigmoid())"
   ]
  },
  {
   "cell_type": "code",
   "execution_count": 6,
   "id": "ec2bd509",
   "metadata": {
    "ExecuteTime": {
     "end_time": "2021-06-27T15:34:47.264104Z",
     "start_time": "2021-06-27T15:34:47.259285Z"
    }
   },
   "outputs": [
    {
     "data": {
      "text/plain": [
       "Sequential(\n",
       "  (conv1): Conv2d(3, 32, kernel_size=(3, 3), stride=(1, 1))\n",
       "  (pool1): MaxPool2d(kernel_size=2, stride=2, padding=0, dilation=1, ceil_mode=False)\n",
       "  (conv2): Conv2d(32, 64, kernel_size=(5, 5), stride=(1, 1))\n",
       "  (pool2): MaxPool2d(kernel_size=2, stride=2, padding=0, dilation=1, ceil_mode=False)\n",
       "  (dropout): Dropout2d(p=0.1, inplace=False)\n",
       "  (adaptive_pool): AdaptiveMaxPool2d(output_size=(1, 1))\n",
       "  (flatten): Flatten(start_dim=1, end_dim=-1)\n",
       "  (linear1): Linear(in_features=64, out_features=32, bias=True)\n",
       "  (relu): ReLU()\n",
       "  (linear2): Linear(in_features=32, out_features=1, bias=True)\n",
       "  (sigmoid): Sigmoid()\n",
       ")"
      ]
     },
     "execution_count": 6,
     "metadata": {},
     "output_type": "execute_result"
    }
   ],
   "source": [
    "net"
   ]
  },
  {
   "cell_type": "markdown",
   "id": "6485f55d",
   "metadata": {},
   "source": [
    "### 利用变长参数\n",
    "这种方式构建时, 不能为每个层指定名称"
   ]
  },
  {
   "cell_type": "code",
   "execution_count": 7,
   "id": "734ef1c9",
   "metadata": {
    "ExecuteTime": {
     "end_time": "2021-06-27T15:34:47.273608Z",
     "start_time": "2021-06-27T15:34:47.266770Z"
    }
   },
   "outputs": [
    {
     "name": "stdout",
     "output_type": "stream",
     "text": [
      "Sequential(\n",
      "  (0): Conv2d(3, 32, kernel_size=(3, 3), stride=(1, 1))\n",
      "  (1): MaxPool2d(kernel_size=2, stride=2, padding=0, dilation=1, ceil_mode=False)\n",
      "  (2): Conv2d(32, 64, kernel_size=(5, 5), stride=(1, 1))\n",
      "  (3): MaxPool2d(kernel_size=2, stride=2, padding=0, dilation=1, ceil_mode=False)\n",
      "  (4): Dropout2d(p=0.1, inplace=False)\n",
      "  (5): AdaptiveMaxPool2d(output_size=(1, 1))\n",
      "  (6): Flatten(start_dim=1, end_dim=-1)\n",
      "  (7): Linear(in_features=64, out_features=32, bias=True)\n",
      "  (8): ReLU()\n",
      "  (9): Linear(in_features=32, out_features=1, bias=True)\n",
      "  (10): Sigmoid()\n",
      ")\n"
     ]
    }
   ],
   "source": [
    "net = nn.Sequential(\n",
    "    nn.Conv2d(in_channels=3, out_channels=32, kernel_size=3),\n",
    "    nn.MaxPool2d(kernel_size=2, stride=2),\n",
    "    nn.Conv2d(in_channels=32, out_channels=64, kernel_size=5),\n",
    "    nn.MaxPool2d(kernel_size=2, stride=2),\n",
    "    nn.Dropout2d(p=0.1),\n",
    "    nn.AdaptiveMaxPool2d((1, 1)),\n",
    "    nn.Flatten(),\n",
    "    nn.Linear(64, 32),\n",
    "    nn.ReLU(),\n",
    "    nn.Linear(32, 1),\n",
    "    nn.Sigmoid()\n",
    ")\n",
    "\n",
    "print(net)"
   ]
  },
  {
   "cell_type": "markdown",
   "id": "e4a275ab",
   "metadata": {},
   "source": [
    "### 利用OrderedDict"
   ]
  },
  {
   "cell_type": "code",
   "execution_count": 8,
   "id": "bf782665",
   "metadata": {
    "ExecuteTime": {
     "end_time": "2021-06-27T15:34:47.283923Z",
     "start_time": "2021-06-27T15:34:47.277594Z"
    }
   },
   "outputs": [
    {
     "name": "stdout",
     "output_type": "stream",
     "text": [
      "Sequential(\n",
      "  (conv1): Conv2d(3, 32, kernel_size=(3, 3), stride=(1, 1))\n",
      "  (pool1): MaxPool2d(kernel_size=2, stride=2, padding=0, dilation=1, ceil_mode=False)\n",
      "  (conv2): Conv2d(32, 64, kernel_size=(5, 5), stride=(1, 1))\n",
      "  (pool2): MaxPool2d(kernel_size=2, stride=2, padding=0, dilation=1, ceil_mode=False)\n",
      "  (dropout): Dropout2d(p=0.1, inplace=False)\n",
      "  (adaptive_pool): AdaptiveMaxPool2d(output_size=(1, 1))\n",
      "  (flatten): Flatten(start_dim=1, end_dim=-1)\n",
      "  (linear1): Linear(in_features=64, out_features=32, bias=True)\n",
      "  (relu): ReLU()\n",
      "  (linear2): Linear(in_features=32, out_features=1, bias=True)\n",
      "  (sigmoid): Sigmoid()\n",
      ")\n"
     ]
    }
   ],
   "source": [
    "net = nn.Sequential(\n",
    "    OrderedDict([\n",
    "        (\"conv1\", nn.Conv2d(in_channels=3, out_channels=32, kernel_size=3)),\n",
    "        (\"pool1\", nn.MaxPool2d(kernel_size=2, stride=2)),\n",
    "        (\"conv2\", nn.Conv2d(in_channels=32, out_channels=64, kernel_size=5)),\n",
    "        (\"pool2\", nn.MaxPool2d(kernel_size=2, stride=2)),\n",
    "        (\"dropout\", nn.Dropout2d(p=0.1)),\n",
    "        (\"adaptive_pool\", nn.AdaptiveMaxPool2d((1, 1))),\n",
    "        (\"flatten\", nn.Flatten()),\n",
    "        (\"linear1\", nn.Linear(64, 32)),\n",
    "        (\"relu\", nn.ReLU()),\n",
    "        (\"linear2\", nn.Linear(32, 1)),\n",
    "        (\"sigmoid\", nn.Sigmoid())\n",
    "    ]))\n",
    "\n",
    "print(net)"
   ]
  },
  {
   "cell_type": "code",
   "execution_count": 9,
   "id": "037af3ec",
   "metadata": {
    "ExecuteTime": {
     "end_time": "2021-06-27T15:34:47.295067Z",
     "start_time": "2021-06-27T15:34:47.287253Z"
    }
   },
   "outputs": [
    {
     "name": "stdout",
     "output_type": "stream",
     "text": [
      "----------------------------------------------------------------\n",
      "        Layer (type)               Output Shape         Param #\n",
      "================================================================\n",
      "            Conv2d-1           [-1, 32, 30, 30]             896\n",
      "         MaxPool2d-2           [-1, 32, 15, 15]               0\n",
      "            Conv2d-3           [-1, 64, 11, 11]          51,264\n",
      "         MaxPool2d-4             [-1, 64, 5, 5]               0\n",
      "         Dropout2d-5             [-1, 64, 5, 5]               0\n",
      " AdaptiveMaxPool2d-6             [-1, 64, 1, 1]               0\n",
      "           Flatten-7                   [-1, 64]               0\n",
      "            Linear-8                   [-1, 32]           2,080\n",
      "              ReLU-9                   [-1, 32]               0\n",
      "           Linear-10                    [-1, 1]              33\n",
      "          Sigmoid-11                    [-1, 1]               0\n",
      "================================================================\n",
      "Total params: 54,273\n",
      "Trainable params: 54,273\n",
      "Non-trainable params: 0\n",
      "----------------------------------------------------------------\n",
      "Input size (MB): 0.011719\n",
      "Forward/backward pass size (MB): 0.359634\n",
      "Params size (MB): 0.207035\n",
      "Estimated Total Size (MB): 0.578388\n",
      "----------------------------------------------------------------\n"
     ]
    }
   ],
   "source": [
    "summary(net, input_shape=(3, 32, 32))"
   ]
  },
  {
   "cell_type": "markdown",
   "id": "ba03b292",
   "metadata": {},
   "source": [
    "## 继承nn.Module基类构建模型并辅助应用模型容器进行封装"
   ]
  },
  {
   "cell_type": "markdown",
   "id": "5744e1c5",
   "metadata": {},
   "source": [
    "### nn.Sequential作为模型容器"
   ]
  },
  {
   "cell_type": "code",
   "execution_count": 10,
   "id": "5177dd63",
   "metadata": {
    "ExecuteTime": {
     "end_time": "2021-06-27T15:34:47.308812Z",
     "start_time": "2021-06-27T15:34:47.297702Z"
    }
   },
   "outputs": [
    {
     "name": "stdout",
     "output_type": "stream",
     "text": [
      "Net(\n",
      "  (conv): Sequential(\n",
      "    (0): Conv2d(3, 32, kernel_size=(3, 3), stride=(1, 1))\n",
      "    (1): MaxPool2d(kernel_size=2, stride=2, padding=0, dilation=1, ceil_mode=False)\n",
      "    (2): Conv2d(32, 64, kernel_size=(5, 5), stride=(1, 1))\n",
      "    (3): MaxPool2d(kernel_size=2, stride=2, padding=0, dilation=1, ceil_mode=False)\n",
      "    (4): Dropout2d(p=0.1, inplace=False)\n",
      "    (5): AdaptiveMaxPool2d(output_size=(1, 1))\n",
      "  )\n",
      "  (dense): Sequential(\n",
      "    (0): Flatten(start_dim=1, end_dim=-1)\n",
      "    (1): Linear(in_features=64, out_features=32, bias=True)\n",
      "    (2): ReLU()\n",
      "    (3): Linear(in_features=32, out_features=1, bias=True)\n",
      "    (4): Sigmoid()\n",
      "  )\n",
      ")\n"
     ]
    }
   ],
   "source": [
    "class Net(nn.Module):\n",
    "\n",
    "    def __init__(self):\n",
    "        super(Net, self).__init__()\n",
    "        self.conv = nn.Sequential(\n",
    "            nn.Conv2d(in_channels=3, out_channels=32, kernel_size=3),\n",
    "            nn.MaxPool2d(kernel_size=2, stride=2),\n",
    "            nn.Conv2d(in_channels=32, out_channels=64, kernel_size=5),\n",
    "            nn.MaxPool2d(kernel_size=2, stride=2),\n",
    "            nn.Dropout2d(p=0.1),\n",
    "            nn.AdaptiveMaxPool2d((1, 1))\n",
    "        )\n",
    "        self.dense = nn.Sequential(\n",
    "            nn.Flatten(),\n",
    "            nn.Linear(64, 32),\n",
    "            nn.ReLU(),\n",
    "            nn.Linear(32, 1),\n",
    "            nn.Sigmoid()\n",
    "        )\n",
    "    def forward(self,x):\n",
    "        x = self.conv(x)\n",
    "        y = self.dense(x)\n",
    "        return y \n",
    "\n",
    "net = Net()\n",
    "print(net)"
   ]
  },
  {
   "cell_type": "markdown",
   "id": "81a316a7",
   "metadata": {},
   "source": [
    "### nn.ModuleList作为模型容器"
   ]
  },
  {
   "cell_type": "code",
   "execution_count": 11,
   "id": "c2b6c917",
   "metadata": {
    "ExecuteTime": {
     "end_time": "2021-06-27T15:34:47.319609Z",
     "start_time": "2021-06-27T15:34:47.311255Z"
    }
   },
   "outputs": [
    {
     "name": "stdout",
     "output_type": "stream",
     "text": [
      "Net(\n",
      "  (layers): ModuleList(\n",
      "    (0): Conv2d(3, 32, kernel_size=(3, 3), stride=(1, 1))\n",
      "    (1): MaxPool2d(kernel_size=2, stride=2, padding=0, dilation=1, ceil_mode=False)\n",
      "    (2): Conv2d(32, 64, kernel_size=(5, 5), stride=(1, 1))\n",
      "    (3): MaxPool2d(kernel_size=2, stride=2, padding=0, dilation=1, ceil_mode=False)\n",
      "    (4): Dropout2d(p=0.1, inplace=False)\n",
      "    (5): AdaptiveMaxPool2d(output_size=(1, 1))\n",
      "    (6): Flatten(start_dim=1, end_dim=-1)\n",
      "    (7): Linear(in_features=64, out_features=32, bias=True)\n",
      "    (8): ReLU()\n",
      "    (9): Linear(in_features=32, out_features=1, bias=True)\n",
      "    (10): Sigmoid()\n",
      "  )\n",
      ")\n"
     ]
    }
   ],
   "source": [
    "class Net(nn.Module):\n",
    "\n",
    "    def __init__(self):\n",
    "        super(Net, self).__init__()\n",
    "        self.layers = nn.ModuleList([\n",
    "            nn.Conv2d(in_channels=3, out_channels=32, kernel_size=3),\n",
    "            nn.MaxPool2d(kernel_size=2, stride=2),\n",
    "            nn.Conv2d(in_channels=32, out_channels=64, kernel_size=5),\n",
    "            nn.MaxPool2d(kernel_size=2, stride=2),\n",
    "            nn.Dropout2d(p=0.1),\n",
    "            nn.AdaptiveMaxPool2d((1, 1)),\n",
    "            nn.Flatten(),\n",
    "            nn.Linear(64, 32),\n",
    "            nn.ReLU(),\n",
    "            nn.Linear(32, 1),\n",
    "            nn.Sigmoid()\n",
    "        ])\n",
    "    def forward(self,x):\n",
    "        for layer in self.layers:\n",
    "            x = layer(x)\n",
    "        return x\n",
    "\n",
    "net = Net()\n",
    "print(net)"
   ]
  },
  {
   "cell_type": "code",
   "execution_count": 12,
   "id": "a5a8fa1f",
   "metadata": {
    "ExecuteTime": {
     "end_time": "2021-06-27T15:34:47.328758Z",
     "start_time": "2021-06-27T15:34:47.321984Z"
    }
   },
   "outputs": [
    {
     "name": "stdout",
     "output_type": "stream",
     "text": [
      "----------------------------------------------------------------\n",
      "        Layer (type)               Output Shape         Param #\n",
      "================================================================\n",
      "            Conv2d-1           [-1, 32, 30, 30]             896\n",
      "         MaxPool2d-2           [-1, 32, 15, 15]               0\n",
      "            Conv2d-3           [-1, 64, 11, 11]          51,264\n",
      "         MaxPool2d-4             [-1, 64, 5, 5]               0\n",
      "         Dropout2d-5             [-1, 64, 5, 5]               0\n",
      " AdaptiveMaxPool2d-6             [-1, 64, 1, 1]               0\n",
      "           Flatten-7                   [-1, 64]               0\n",
      "            Linear-8                   [-1, 32]           2,080\n",
      "              ReLU-9                   [-1, 32]               0\n",
      "           Linear-10                    [-1, 1]              33\n",
      "          Sigmoid-11                    [-1, 1]               0\n",
      "================================================================\n",
      "Total params: 54,273\n",
      "Trainable params: 54,273\n",
      "Non-trainable params: 0\n",
      "----------------------------------------------------------------\n",
      "Input size (MB): 0.011719\n",
      "Forward/backward pass size (MB): 0.359634\n",
      "Params size (MB): 0.207035\n",
      "Estimated Total Size (MB): 0.578388\n",
      "----------------------------------------------------------------\n"
     ]
    }
   ],
   "source": [
    "summary(net, input_shape=(3, 32, 32))"
   ]
  },
  {
   "cell_type": "markdown",
   "id": "c8b84c5d",
   "metadata": {},
   "source": [
    "### nn.ModuleDict作为模型容器"
   ]
  },
  {
   "cell_type": "code",
   "execution_count": 13,
   "id": "fe7886c8",
   "metadata": {
    "ExecuteTime": {
     "end_time": "2021-06-27T15:34:47.341490Z",
     "start_time": "2021-06-27T15:34:47.330901Z"
    }
   },
   "outputs": [
    {
     "name": "stdout",
     "output_type": "stream",
     "text": [
      "Net(\n",
      "  (layers_dict): ModuleDict(\n",
      "    (conv1): Conv2d(3, 32, kernel_size=(3, 3), stride=(1, 1))\n",
      "    (pool): MaxPool2d(kernel_size=2, stride=2, padding=0, dilation=1, ceil_mode=False)\n",
      "    (conv2): Conv2d(32, 64, kernel_size=(5, 5), stride=(1, 1))\n",
      "    (dropout): Dropout2d(p=0.1, inplace=False)\n",
      "    (adaptive): AdaptiveMaxPool2d(output_size=(1, 1))\n",
      "    (flatten): Flatten(start_dim=1, end_dim=-1)\n",
      "    (linear1): Linear(in_features=64, out_features=32, bias=True)\n",
      "    (relu): ReLU()\n",
      "    (linear2): Linear(in_features=32, out_features=1, bias=True)\n",
      "    (sigmoid): Sigmoid()\n",
      "  )\n",
      ")\n"
     ]
    }
   ],
   "source": [
    "class Net(nn.Module):\n",
    "\n",
    "    def __init__(self):\n",
    "        super(Net, self).__init__()\n",
    "        self.layers_dict = nn.ModuleDict({\n",
    "            \"conv1\": nn.Conv2d(in_channels=3, out_channels=32, kernel_size=3),\n",
    "            \"pool\": nn.MaxPool2d(kernel_size=2,stride=2),\n",
    "            \"conv2\": nn.Conv2d(in_channels=32, out_channels=64, kernel_size=5),\n",
    "            \"dropout\": nn.Dropout2d(p=0.1),\n",
    "            \"adaptive\": nn.AdaptiveMaxPool2d((1, 1)),\n",
    "            \"flatten\": nn.Flatten(),\n",
    "            \"linear1\": nn.Linear(64,32),\n",
    "            \"relu\": nn.ReLU(),\n",
    "            \"linear2\": nn.Linear(32, 1),\n",
    "            \"sigmoid\": nn.Sigmoid()\n",
    "        })\n",
    "    def forward(self,x):\n",
    "        layers = [\"conv1\", \"pool\", \"conv2\", \"pool\", \"dropout\", \"adaptive\",\n",
    "                  \"flatten\", \"linear1\", \"relu\", \"linear2\", \"sigmoid\"]\n",
    "        for layer in layers:\n",
    "            x = self.layers_dict[layer](x)\n",
    "        return x\n",
    "\n",
    "net = Net()\n",
    "print(net)"
   ]
  },
  {
   "cell_type": "code",
   "execution_count": 14,
   "id": "c29bac95",
   "metadata": {
    "ExecuteTime": {
     "end_time": "2021-06-27T15:34:47.350337Z",
     "start_time": "2021-06-27T15:34:47.343839Z"
    }
   },
   "outputs": [
    {
     "name": "stdout",
     "output_type": "stream",
     "text": [
      "----------------------------------------------------------------\n",
      "        Layer (type)               Output Shape         Param #\n",
      "================================================================\n",
      "            Conv2d-1           [-1, 32, 30, 30]             896\n",
      "         MaxPool2d-2           [-1, 32, 15, 15]               0\n",
      "            Conv2d-3           [-1, 64, 11, 11]          51,264\n",
      "         MaxPool2d-4             [-1, 64, 5, 5]               0\n",
      "         Dropout2d-5             [-1, 64, 5, 5]               0\n",
      " AdaptiveMaxPool2d-6             [-1, 64, 1, 1]               0\n",
      "           Flatten-7                   [-1, 64]               0\n",
      "            Linear-8                   [-1, 32]           2,080\n",
      "              ReLU-9                   [-1, 32]               0\n",
      "           Linear-10                    [-1, 1]              33\n",
      "          Sigmoid-11                    [-1, 1]               0\n",
      "================================================================\n",
      "Total params: 54,273\n",
      "Trainable params: 54,273\n",
      "Non-trainable params: 0\n",
      "----------------------------------------------------------------\n",
      "Input size (MB): 0.011719\n",
      "Forward/backward pass size (MB): 0.359634\n",
      "Params size (MB): 0.207035\n",
      "Estimated Total Size (MB): 0.578388\n",
      "----------------------------------------------------------------\n"
     ]
    }
   ],
   "source": [
    "summary(net, input_shape=(3, 32, 32))"
   ]
  }
 ],
 "metadata": {
  "kernelspec": {
   "display_name": "Python 3",
   "language": "python",
   "name": "python3"
  },
  "language_info": {
   "codemirror_mode": {
    "name": "ipython",
    "version": 3
   },
   "file_extension": ".py",
   "mimetype": "text/x-python",
   "name": "python",
   "nbconvert_exporter": "python",
   "pygments_lexer": "ipython3",
   "version": "3.8.8"
  },
  "toc": {
   "base_numbering": 1,
   "nav_menu": {},
   "number_sections": true,
   "sideBar": true,
   "skip_h1_title": false,
   "title_cell": "Table of Contents",
   "title_sidebar": "Contents",
   "toc_cell": false,
   "toc_position": {},
   "toc_section_display": true,
   "toc_window_display": true
  }
 },
 "nbformat": 4,
 "nbformat_minor": 5
}
