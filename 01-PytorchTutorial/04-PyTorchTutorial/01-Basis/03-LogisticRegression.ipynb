{
 "cells": [
  {
   "cell_type": "code",
   "execution_count": 1,
   "metadata": {
    "ExecuteTime": {
     "end_time": "2020-11-30T15:10:32.860912Z",
     "start_time": "2020-11-30T15:10:31.784533Z"
    }
   },
   "outputs": [],
   "source": [
    "import torch\n",
    "import torch.nn as nn\n",
    "import torchvision\n",
    "import torchvision.transforms as transforms"
   ]
  },
  {
   "cell_type": "code",
   "execution_count": 2,
   "metadata": {
    "ExecuteTime": {
     "end_time": "2020-11-30T15:10:32.875902Z",
     "start_time": "2020-11-30T15:10:32.864911Z"
    }
   },
   "outputs": [],
   "source": [
    "# Hyper-parameters \n",
    "input_size = 28 * 28    # 784\n",
    "num_classes = 10\n",
    "num_epochs = 5\n",
    "batch_size = 100\n",
    "learning_rate = 0.001"
   ]
  },
  {
   "cell_type": "code",
   "execution_count": 3,
   "metadata": {
    "ExecuteTime": {
     "end_time": "2020-11-30T15:10:32.961854Z",
     "start_time": "2020-11-30T15:10:32.879908Z"
    }
   },
   "outputs": [],
   "source": [
    "# MNIST dataset (images and labels)\n",
    "train_dataset = torchvision.datasets.MNIST(root='../../data', \n",
    "                                           train=True, \n",
    "                                           transform=transforms.ToTensor(),\n",
    "                                           download=True)\n",
    "\n",
    "test_dataset = torchvision.datasets.MNIST(root='../../data', \n",
    "                                          train=False, \n",
    "                                          transform=transforms.ToTensor())"
   ]
  },
  {
   "cell_type": "code",
   "execution_count": 4,
   "metadata": {
    "ExecuteTime": {
     "end_time": "2020-11-30T15:10:32.982844Z",
     "start_time": "2020-11-30T15:10:32.966850Z"
    }
   },
   "outputs": [],
   "source": [
    "# Data loader (input pipeline)\n",
    "train_loader = torch.utils.data.DataLoader(dataset=train_dataset, \n",
    "                                           batch_size=batch_size, \n",
    "                                           shuffle=True)\n",
    "\n",
    "test_loader = torch.utils.data.DataLoader(dataset=test_dataset, \n",
    "                                          batch_size=batch_size, \n",
    "                                          shuffle=False)"
   ]
  },
  {
   "cell_type": "code",
   "execution_count": 5,
   "metadata": {
    "ExecuteTime": {
     "end_time": "2020-11-30T15:10:32.993835Z",
     "start_time": "2020-11-30T15:10:32.986839Z"
    }
   },
   "outputs": [],
   "source": [
    "# Logistic regression model\n",
    "model = nn.Linear(input_size, num_classes)"
   ]
  },
  {
   "cell_type": "code",
   "execution_count": 6,
   "metadata": {
    "ExecuteTime": {
     "end_time": "2020-11-30T15:10:33.006826Z",
     "start_time": "2020-11-30T15:10:32.996833Z"
    }
   },
   "outputs": [],
   "source": [
    "# Loss and optimizer\n",
    "# nn.CrossEntropyLoss() computes softmax internally\n",
    "criterion = nn.CrossEntropyLoss()  \n",
    "optimizer = torch.optim.SGD(model.parameters(), lr=learning_rate)  "
   ]
  },
  {
   "cell_type": "code",
   "execution_count": 7,
   "metadata": {
    "ExecuteTime": {
     "end_time": "2020-11-30T15:11:32.451917Z",
     "start_time": "2020-11-30T15:10:33.011825Z"
    }
   },
   "outputs": [
    {
     "name": "stdout",
     "output_type": "stream",
     "text": [
      "Epoch [1/5], Step [100/600], Loss: 2.1847\n",
      "Epoch [1/5], Step [200/600], Loss: 2.0937\n",
      "Epoch [1/5], Step [300/600], Loss: 1.9726\n",
      "Epoch [1/5], Step [400/600], Loss: 1.8943\n",
      "Epoch [1/5], Step [500/600], Loss: 1.8571\n",
      "Epoch [1/5], Step [600/600], Loss: 1.8441\n",
      "Epoch [2/5], Step [100/600], Loss: 1.7585\n",
      "Epoch [2/5], Step [200/600], Loss: 1.6388\n",
      "Epoch [2/5], Step [300/600], Loss: 1.5937\n",
      "Epoch [2/5], Step [400/600], Loss: 1.5799\n",
      "Epoch [2/5], Step [500/600], Loss: 1.5819\n",
      "Epoch [2/5], Step [600/600], Loss: 1.4697\n",
      "Epoch [3/5], Step [100/600], Loss: 1.4396\n",
      "Epoch [3/5], Step [200/600], Loss: 1.3953\n",
      "Epoch [3/5], Step [300/600], Loss: 1.2662\n",
      "Epoch [3/5], Step [400/600], Loss: 1.2616\n",
      "Epoch [3/5], Step [500/600], Loss: 1.2498\n",
      "Epoch [3/5], Step [600/600], Loss: 1.2321\n",
      "Epoch [4/5], Step [100/600], Loss: 1.1925\n",
      "Epoch [4/5], Step [200/600], Loss: 1.1374\n",
      "Epoch [4/5], Step [300/600], Loss: 1.2476\n",
      "Epoch [4/5], Step [400/600], Loss: 1.1499\n",
      "Epoch [4/5], Step [500/600], Loss: 1.0456\n",
      "Epoch [4/5], Step [600/600], Loss: 1.1103\n",
      "Epoch [5/5], Step [100/600], Loss: 1.1752\n",
      "Epoch [5/5], Step [200/600], Loss: 1.0587\n",
      "Epoch [5/5], Step [300/600], Loss: 1.1522\n",
      "Epoch [5/5], Step [400/600], Loss: 1.0083\n",
      "Epoch [5/5], Step [500/600], Loss: 0.9291\n",
      "Epoch [5/5], Step [600/600], Loss: 1.0217\n"
     ]
    }
   ],
   "source": [
    "# Train the model\n",
    "total_step = len(train_loader)\n",
    "for epoch in range(num_epochs):\n",
    "    for i, (images, labels) in enumerate(train_loader):\n",
    "        # Reshape images to (batch_size, input_size)\n",
    "        images = images.reshape(-1, input_size)\n",
    "        \n",
    "        # Forward pass\n",
    "        outputs = model(images)\n",
    "        loss = criterion(outputs, labels)\n",
    "        \n",
    "        # Backward and optimize\n",
    "        optimizer.zero_grad()\n",
    "        loss.backward()\n",
    "        optimizer.step()\n",
    "        \n",
    "        if (i+1) % 100 == 0:\n",
    "            print('Epoch [{}/{}], Step [{}/{}], Loss: {:.4f}' \n",
    "                   .format(epoch+1, num_epochs, i+1, total_step, loss.item()))"
   ]
  },
  {
   "cell_type": "code",
   "execution_count": 8,
   "metadata": {
    "ExecuteTime": {
     "end_time": "2020-11-30T15:11:34.584861Z",
     "start_time": "2020-11-30T15:11:32.457913Z"
    }
   },
   "outputs": [
    {
     "name": "stdout",
     "output_type": "stream",
     "text": [
      "Accuracy of the model on the 10000 test images: 82 %\n"
     ]
    }
   ],
   "source": [
    "# Test the model\n",
    "# In test phase, we don't need to compute gradients (for memory efficiency)\n",
    "with torch.no_grad():\n",
    "    correct = 0\n",
    "    total = 0\n",
    "    for images, labels in test_loader:\n",
    "        images = images.reshape(-1, input_size)\n",
    "        outputs = model(images)\n",
    "        _, predicted = torch.max(outputs.data, 1)\n",
    "        total += labels.size(0)\n",
    "        correct += (predicted == labels).sum()\n",
    "\n",
    "    print('Accuracy of the model on the 10000 test images: {} %'.format(100 * correct / total))"
   ]
  }
 ],
 "metadata": {
  "kernelspec": {
   "display_name": "Python 3",
   "language": "python",
   "name": "python3"
  },
  "language_info": {
   "codemirror_mode": {
    "name": "ipython",
    "version": 3
   },
   "file_extension": ".py",
   "mimetype": "text/x-python",
   "name": "python",
   "nbconvert_exporter": "python",
   "pygments_lexer": "ipython3",
   "version": "3.7.3"
  },
  "toc": {
   "base_numbering": 1,
   "nav_menu": {},
   "number_sections": true,
   "sideBar": true,
   "skip_h1_title": false,
   "title_cell": "Table of Contents",
   "title_sidebar": "Contents",
   "toc_cell": false,
   "toc_position": {},
   "toc_section_display": true,
   "toc_window_display": false
  }
 },
 "nbformat": 4,
 "nbformat_minor": 4
}
