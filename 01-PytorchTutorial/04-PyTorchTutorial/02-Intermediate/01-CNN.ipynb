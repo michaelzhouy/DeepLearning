{
 "cells": [
  {
   "cell_type": "code",
   "execution_count": 1,
   "metadata": {
    "ExecuteTime": {
     "end_time": "2020-12-01T02:42:45.554585Z",
     "start_time": "2020-12-01T02:42:44.825251Z"
    }
   },
   "outputs": [],
   "source": [
    "import torch \n",
    "import torch.nn as nn\n",
    "import torchvision\n",
    "import torchvision.transforms as transforms"
   ]
  },
  {
   "cell_type": "code",
   "execution_count": 2,
   "metadata": {
    "ExecuteTime": {
     "end_time": "2020-12-01T02:42:45.766287Z",
     "start_time": "2020-12-01T02:42:45.556374Z"
    }
   },
   "outputs": [],
   "source": [
    "# Device configuration\n",
    "device = torch.device('cuda:0' if torch.cuda.is_available() else 'cpu')"
   ]
  },
  {
   "cell_type": "code",
   "execution_count": 3,
   "metadata": {
    "ExecuteTime": {
     "end_time": "2020-12-01T02:42:45.779668Z",
     "start_time": "2020-12-01T02:42:45.767248Z"
    }
   },
   "outputs": [],
   "source": [
    "# Hyper parameters\n",
    "num_epochs = 5\n",
    "num_classes = 10\n",
    "batch_size = 100\n",
    "learning_rate = 0.001"
   ]
  },
  {
   "cell_type": "code",
   "execution_count": 4,
   "metadata": {
    "ExecuteTime": {
     "end_time": "2020-12-01T02:42:45.810681Z",
     "start_time": "2020-12-01T02:42:45.780625Z"
    }
   },
   "outputs": [],
   "source": [
    "# MNIST dataset\n",
    "train_dataset = torchvision.datasets.MNIST(root='../../data/',\n",
    "                                           train=True, \n",
    "                                           transform=transforms.ToTensor(),\n",
    "                                           download=True)\n",
    "\n",
    "test_dataset = torchvision.datasets.MNIST(root='../../data/',\n",
    "                                          train=False, \n",
    "                                          transform=transforms.ToTensor())"
   ]
  },
  {
   "cell_type": "code",
   "execution_count": 5,
   "metadata": {
    "ExecuteTime": {
     "end_time": "2020-12-01T02:42:45.816607Z",
     "start_time": "2020-12-01T02:42:45.811356Z"
    }
   },
   "outputs": [],
   "source": [
    "# Data loader\n",
    "train_loader = torch.utils.data.DataLoader(dataset=train_dataset,\n",
    "                                           batch_size=batch_size, \n",
    "                                           shuffle=True)\n",
    "\n",
    "test_loader = torch.utils.data.DataLoader(dataset=test_dataset,\n",
    "                                          batch_size=batch_size, \n",
    "                                          shuffle=False)"
   ]
  },
  {
   "cell_type": "code",
   "execution_count": 6,
   "metadata": {
    "ExecuteTime": {
     "end_time": "2020-12-01T02:42:47.925676Z",
     "start_time": "2020-12-01T02:42:45.818228Z"
    }
   },
   "outputs": [],
   "source": [
    "# Convolutional neural network (two convolutional layers)\n",
    "class ConvNet(nn.Module):\n",
    "    def __init__(self, num_classes=10):\n",
    "        super(ConvNet, self).__init__()\n",
    "        self.layer1 = nn.Sequential(\n",
    "            # (28 - 5 + 1 + 4) / 1 = 28\n",
    "            nn.Conv2d(1, 16, kernel_size=5, stride=1, padding=2),\n",
    "            nn.BatchNorm2d(16),\n",
    "            nn.ReLU(),\n",
    "            #  (28 - 2 + 2) / 2 = 14\n",
    "            nn.MaxPool2d(kernel_size=2, stride=2))\n",
    "        self.layer2 = nn.Sequential(\n",
    "            # (14 - 5 + 1 + 4) / 1 = 14\n",
    "            nn.Conv2d(16, 32, kernel_size=5, stride=1, padding=2),\n",
    "            nn.BatchNorm2d(32),\n",
    "            nn.ReLU(),\n",
    "            # (14 - 2 + 2) / 2 = 7\n",
    "            nn.MaxPool2d(kernel_size=2, stride=2))\n",
    "        self.fc = nn.Linear(7*7*32, num_classes)\n",
    "        \n",
    "    def forward(self, x):\n",
    "        out = self.layer1(x)\n",
    "        out = self.layer2(out)\n",
    "        out = out.reshape(out.size(0), -1)\n",
    "        out = self.fc(out)\n",
    "        return out\n",
    "\n",
    "model = ConvNet(num_classes).to(device)"
   ]
  },
  {
   "cell_type": "code",
   "execution_count": 7,
   "metadata": {
    "ExecuteTime": {
     "end_time": "2020-12-01T02:42:47.931656Z",
     "start_time": "2020-12-01T02:42:47.927666Z"
    }
   },
   "outputs": [],
   "source": [
    "# Loss and optimizer\n",
    "criterion = nn.CrossEntropyLoss()\n",
    "optimizer = torch.optim.Adam(model.parameters(), lr=learning_rate)"
   ]
  },
  {
   "cell_type": "code",
   "execution_count": 8,
   "metadata": {
    "ExecuteTime": {
     "end_time": "2020-12-01T02:43:34.926164Z",
     "start_time": "2020-12-01T02:42:47.933652Z"
    }
   },
   "outputs": [
    {
     "name": "stdout",
     "output_type": "stream",
     "text": [
      "Epoch [1/5], Step [100/600], Loss: 0.1725\n",
      "Epoch [1/5], Step [200/600], Loss: 0.0971\n",
      "Epoch [1/5], Step [300/600], Loss: 0.1282\n",
      "Epoch [1/5], Step [400/600], Loss: 0.1203\n",
      "Epoch [1/5], Step [500/600], Loss: 0.0534\n",
      "Epoch [1/5], Step [600/600], Loss: 0.0347\n",
      "Epoch [2/5], Step [100/600], Loss: 0.0552\n",
      "Epoch [2/5], Step [200/600], Loss: 0.0550\n",
      "Epoch [2/5], Step [300/600], Loss: 0.0329\n",
      "Epoch [2/5], Step [400/600], Loss: 0.0836\n",
      "Epoch [2/5], Step [500/600], Loss: 0.0159\n",
      "Epoch [2/5], Step [600/600], Loss: 0.0086\n",
      "Epoch [3/5], Step [100/600], Loss: 0.0059\n",
      "Epoch [3/5], Step [200/600], Loss: 0.0138\n",
      "Epoch [3/5], Step [300/600], Loss: 0.0106\n",
      "Epoch [3/5], Step [400/600], Loss: 0.0108\n",
      "Epoch [3/5], Step [500/600], Loss: 0.0051\n",
      "Epoch [3/5], Step [600/600], Loss: 0.0368\n",
      "Epoch [4/5], Step [100/600], Loss: 0.0266\n",
      "Epoch [4/5], Step [200/600], Loss: 0.0049\n",
      "Epoch [4/5], Step [300/600], Loss: 0.0353\n",
      "Epoch [4/5], Step [400/600], Loss: 0.0189\n",
      "Epoch [4/5], Step [500/600], Loss: 0.1556\n",
      "Epoch [4/5], Step [600/600], Loss: 0.0497\n",
      "Epoch [5/5], Step [100/600], Loss: 0.0326\n",
      "Epoch [5/5], Step [200/600], Loss: 0.0191\n",
      "Epoch [5/5], Step [300/600], Loss: 0.0222\n",
      "Epoch [5/5], Step [400/600], Loss: 0.0017\n",
      "Epoch [5/5], Step [500/600], Loss: 0.0154\n",
      "Epoch [5/5], Step [600/600], Loss: 0.0757\n"
     ]
    }
   ],
   "source": [
    "# Train the model\n",
    "total_step = len(train_loader)\n",
    "for epoch in range(num_epochs):\n",
    "    for i, (images, labels) in enumerate(train_loader):\n",
    "        images = images.to(device)\n",
    "        labels = labels.to(device)\n",
    "        \n",
    "        # Forward pass\n",
    "        outputs = model(images)\n",
    "        loss = criterion(outputs, labels)\n",
    "        \n",
    "        # Backward and optimize\n",
    "        optimizer.zero_grad()\n",
    "        loss.backward()\n",
    "        optimizer.step()\n",
    "        \n",
    "        if (i+1) % 100 == 0:\n",
    "            print ('Epoch [{}/{}], Step [{}/{}], Loss: {:.4f}' \n",
    "                   .format(epoch+1, num_epochs, i+1, total_step, loss.item()))"
   ]
  },
  {
   "cell_type": "code",
   "execution_count": 9,
   "metadata": {
    "ExecuteTime": {
     "end_time": "2020-12-01T02:43:35.942151Z",
     "start_time": "2020-12-01T02:43:34.927087Z"
    }
   },
   "outputs": [
    {
     "name": "stdout",
     "output_type": "stream",
     "text": [
      "Test Accuracy of the model on the 10000 test images: 99.05 %\n"
     ]
    }
   ],
   "source": [
    "# Test the model\n",
    "model.eval()  # eval mode (batchnorm uses moving mean/variance instead of mini-batch mean/variance)\n",
    "with torch.no_grad():\n",
    "    correct = 0\n",
    "    total = 0\n",
    "    for images, labels in test_loader:\n",
    "        images = images.to(device)\n",
    "        labels = labels.to(device)\n",
    "        outputs = model(images)\n",
    "        _, predicted = torch.max(outputs.data, 1)\n",
    "        total += labels.size(0)\n",
    "        correct += (predicted == labels).sum().item()\n",
    "\n",
    "    print('Test Accuracy of the model on the 10000 test images: {} %'.format(100 * correct / total))"
   ]
  }
 ],
 "metadata": {
  "kernelspec": {
   "display_name": "Python 3",
   "language": "python",
   "name": "python3"
  },
  "language_info": {
   "codemirror_mode": {
    "name": "ipython",
    "version": 3
   },
   "file_extension": ".py",
   "mimetype": "text/x-python",
   "name": "python",
   "nbconvert_exporter": "python",
   "pygments_lexer": "ipython3",
   "version": "3.7.3"
  },
  "toc": {
   "base_numbering": 1,
   "nav_menu": {},
   "number_sections": true,
   "sideBar": true,
   "skip_h1_title": false,
   "title_cell": "Table of Contents",
   "title_sidebar": "Contents",
   "toc_cell": false,
   "toc_position": {},
   "toc_section_display": true,
   "toc_window_display": false
  }
 },
 "nbformat": 4,
 "nbformat_minor": 4
}
