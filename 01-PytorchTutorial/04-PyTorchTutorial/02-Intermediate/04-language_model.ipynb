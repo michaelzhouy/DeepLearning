{
 "cells": [
  {
   "cell_type": "code",
   "execution_count": 1,
   "metadata": {
    "ExecuteTime": {
     "end_time": "2020-12-02T03:54:39.275368Z",
     "start_time": "2020-12-02T03:54:38.806084Z"
    }
   },
   "outputs": [],
   "source": [
    "import torch\n",
    "import torch.nn as nn\n",
    "import numpy as np\n",
    "from torch.nn.utils import clip_grad_norm_\n",
    "from data_utils import Dictionary, Corpus"
   ]
  },
  {
   "cell_type": "code",
   "execution_count": 2,
   "metadata": {
    "ExecuteTime": {
     "end_time": "2020-12-02T03:54:39.281729Z",
     "start_time": "2020-12-02T03:54:39.277291Z"
    }
   },
   "outputs": [],
   "source": [
    "# Device configuration\n",
    "device = torch.device('cpu')"
   ]
  },
  {
   "cell_type": "code",
   "execution_count": 3,
   "metadata": {
    "ExecuteTime": {
     "end_time": "2020-12-02T03:54:39.295505Z",
     "start_time": "2020-12-02T03:54:39.283735Z"
    }
   },
   "outputs": [],
   "source": [
    "# Hyper-parameters\n",
    "embed_size = 128\n",
    "hidden_size = 1024\n",
    "num_layers = 1\n",
    "num_epochs = 5\n",
    "num_samples = 1000     # number of words to be sampled\n",
    "batch_size = 20\n",
    "seq_length = 30\n",
    "learning_rate = 0.002"
   ]
  },
  {
   "cell_type": "code",
   "execution_count": 4,
   "metadata": {
    "ExecuteTime": {
     "end_time": "2020-12-02T03:54:48.637121Z",
     "start_time": "2020-12-02T03:54:39.296434Z"
    }
   },
   "outputs": [],
   "source": [
    "# Load \"Penn Treebank\" dataset\n",
    "corpus = Corpus()\n",
    "ids = corpus.get_data('../../data/language/train.txt', batch_size)\n",
    "vocab_size = len(corpus.dictionary)\n",
    "num_batches = ids.size(1) // seq_length"
   ]
  },
  {
   "cell_type": "code",
   "execution_count": 5,
   "metadata": {
    "ExecuteTime": {
     "end_time": "2020-12-02T03:54:48.884738Z",
     "start_time": "2020-12-02T03:54:48.638031Z"
    }
   },
   "outputs": [],
   "source": [
    "class RNNLM(nn.Module):\n",
    "    def __init__(self, vocab_size, embed_size, hidden_size, num_layers):\n",
    "        super(RNNLM, self).__init__()\n",
    "        self.embed = nn.Embedding(vocab_size, embed_size)\n",
    "        self.lstm = nn.LSTM(embed_size, hidden_size, num_layers, batch_first=True)\n",
    "        self.linear = nn.Linear(hidden_size, vocab_size)\n",
    "        \n",
    "    def forward(self, x, h):\n",
    "        # Embed word ids to vectors\n",
    "        x = self.embed(x)\n",
    "        \n",
    "        # Forward propagate LSTM\n",
    "        out, (h, c) = self.lstm(x, h)\n",
    "        \n",
    "        # Reshape output to (batch_size*sequence_length, hidden_size)\n",
    "        out = out.reshape(out.size(0)*out.size(1), out.size(2))\n",
    "        \n",
    "        # Decode hidden states of all time steps\n",
    "        out = self.linear(out)\n",
    "        return out, (h, c)\n",
    "\n",
    "model = RNNLM(vocab_size, embed_size, hidden_size, num_layers).to(device)"
   ]
  },
  {
   "cell_type": "code",
   "execution_count": 6,
   "metadata": {
    "ExecuteTime": {
     "end_time": "2020-12-02T03:54:48.889696Z",
     "start_time": "2020-12-02T03:54:48.885704Z"
    }
   },
   "outputs": [],
   "source": [
    "# Loss and optimizer\n",
    "criterion = nn.CrossEntropyLoss()\n",
    "optimizer = torch.optim.Adam(model.parameters(), lr=learning_rate)"
   ]
  },
  {
   "cell_type": "code",
   "execution_count": 7,
   "metadata": {
    "ExecuteTime": {
     "end_time": "2020-12-02T03:54:48.895682Z",
     "start_time": "2020-12-02T03:54:48.891690Z"
    }
   },
   "outputs": [],
   "source": [
    "# Truncated backpropagation\n",
    "def detach(states):\n",
    "    return [state.detach() for state in states] "
   ]
  },
  {
   "cell_type": "code",
   "execution_count": 8,
   "metadata": {
    "ExecuteTime": {
     "end_time": "2020-12-02T13:09:47.191067Z",
     "start_time": "2020-12-02T03:54:48.896679Z"
    }
   },
   "outputs": [
    {
     "name": "stdout",
     "output_type": "stream",
     "text": [
      "Epoch [1/5], Step[0/3481], Loss: 10.4152, Perplexity: 33361.58\n",
      "Epoch [1/5], Step[100/3481], Loss: 6.6405, Perplexity: 765.45\n",
      "Epoch [1/5], Step[200/3481], Loss: 6.6232, Perplexity: 752.35\n",
      "Epoch [1/5], Step[300/3481], Loss: 6.2822, Perplexity: 534.97\n",
      "Epoch [1/5], Step[400/3481], Loss: 6.0880, Perplexity: 440.53\n",
      "Epoch [1/5], Step[500/3481], Loss: 6.0540, Perplexity: 425.82\n",
      "Epoch [1/5], Step[600/3481], Loss: 5.8358, Perplexity: 342.34\n",
      "Epoch [1/5], Step[700/3481], Loss: 5.6816, Perplexity: 293.42\n",
      "Epoch [1/5], Step[800/3481], Loss: 5.4420, Perplexity: 230.90\n",
      "Epoch [1/5], Step[900/3481], Loss: 5.7951, Perplexity: 328.69\n",
      "Epoch [1/5], Step[1000/3481], Loss: 5.7824, Perplexity: 324.54\n",
      "Epoch [1/5], Step[1100/3481], Loss: 5.8132, Perplexity: 334.70\n",
      "Epoch [1/5], Step[1200/3481], Loss: 5.6095, Perplexity: 273.01\n",
      "Epoch [1/5], Step[1300/3481], Loss: 5.6688, Perplexity: 289.67\n",
      "Epoch [1/5], Step[1400/3481], Loss: 5.6921, Perplexity: 296.52\n",
      "Epoch [1/5], Step[1500/3481], Loss: 5.5183, Perplexity: 249.21\n",
      "Epoch [1/5], Step[1600/3481], Loss: 5.3030, Perplexity: 200.94\n",
      "Epoch [1/5], Step[1700/3481], Loss: 5.4296, Perplexity: 228.06\n",
      "Epoch [1/5], Step[1800/3481], Loss: 5.6260, Perplexity: 277.55\n",
      "Epoch [1/5], Step[1900/3481], Loss: 5.1598, Perplexity: 174.13\n",
      "Epoch [1/5], Step[2000/3481], Loss: 5.4581, Perplexity: 234.64\n",
      "Epoch [1/5], Step[2100/3481], Loss: 5.3334, Perplexity: 207.14\n",
      "Epoch [1/5], Step[2200/3481], Loss: 5.2478, Perplexity: 190.15\n",
      "Epoch [1/5], Step[2300/3481], Loss: 5.2467, Perplexity: 189.93\n",
      "Epoch [1/5], Step[2400/3481], Loss: 5.4599, Perplexity: 235.06\n",
      "Epoch [1/5], Step[2500/3481], Loss: 5.2442, Perplexity: 189.47\n",
      "Epoch [1/5], Step[2600/3481], Loss: 4.8845, Perplexity: 132.22\n",
      "Epoch [1/5], Step[2700/3481], Loss: 5.4043, Perplexity: 222.37\n",
      "Epoch [1/5], Step[2800/3481], Loss: 5.3666, Perplexity: 214.14\n",
      "Epoch [1/5], Step[2900/3481], Loss: 5.1228, Perplexity: 167.80\n",
      "Epoch [1/5], Step[3000/3481], Loss: 5.0892, Perplexity: 162.26\n",
      "Epoch [1/5], Step[3100/3481], Loss: 4.9717, Perplexity: 144.27\n",
      "Epoch [1/5], Step[3200/3481], Loss: 4.8297, Perplexity: 125.18\n",
      "Epoch [1/5], Step[3300/3481], Loss: 5.0599, Perplexity: 157.57\n",
      "Epoch [1/5], Step[3400/3481], Loss: 5.1708, Perplexity: 176.05\n",
      "Epoch [2/5], Step[0/3481], Loss: 4.9405, Perplexity: 139.85\n",
      "Epoch [2/5], Step[100/3481], Loss: 4.9040, Perplexity: 134.83\n",
      "Epoch [2/5], Step[200/3481], Loss: 5.0844, Perplexity: 161.48\n",
      "Epoch [2/5], Step[300/3481], Loss: 4.8039, Perplexity: 121.98\n",
      "Epoch [2/5], Step[400/3481], Loss: 4.7869, Perplexity: 119.93\n",
      "Epoch [2/5], Step[500/3481], Loss: 4.5576, Perplexity: 95.36\n",
      "Epoch [2/5], Step[600/3481], Loss: 4.3836, Perplexity: 80.13\n",
      "Epoch [2/5], Step[700/3481], Loss: 4.4822, Perplexity: 88.43\n",
      "Epoch [2/5], Step[800/3481], Loss: 4.4260, Perplexity: 83.60\n",
      "Epoch [2/5], Step[900/3481], Loss: 4.5964, Perplexity: 99.13\n",
      "Epoch [2/5], Step[1000/3481], Loss: 4.7587, Perplexity: 116.59\n",
      "Epoch [2/5], Step[1100/3481], Loss: 4.6855, Perplexity: 108.36\n",
      "Epoch [2/5], Step[1200/3481], Loss: 4.4541, Perplexity: 85.98\n",
      "Epoch [2/5], Step[1300/3481], Loss: 4.5002, Perplexity: 90.03\n",
      "Epoch [2/5], Step[1400/3481], Loss: 4.4883, Perplexity: 88.97\n",
      "Epoch [2/5], Step[1500/3481], Loss: 4.4916, Perplexity: 89.27\n",
      "Epoch [2/5], Step[1600/3481], Loss: 4.2895, Perplexity: 72.93\n",
      "Epoch [2/5], Step[1700/3481], Loss: 4.3206, Perplexity: 75.24\n",
      "Epoch [2/5], Step[1800/3481], Loss: 4.6882, Perplexity: 108.65\n",
      "Epoch [2/5], Step[1900/3481], Loss: 4.0315, Perplexity: 56.35\n",
      "Epoch [2/5], Step[2000/3481], Loss: 4.4712, Perplexity: 87.46\n",
      "Epoch [2/5], Step[2100/3481], Loss: 4.3344, Perplexity: 76.28\n",
      "Epoch [2/5], Step[2200/3481], Loss: 4.3134, Perplexity: 74.69\n",
      "Epoch [2/5], Step[2300/3481], Loss: 4.3130, Perplexity: 74.66\n",
      "Epoch [2/5], Step[2400/3481], Loss: 4.4741, Perplexity: 87.71\n",
      "Epoch [2/5], Step[2500/3481], Loss: 4.2131, Perplexity: 67.57\n",
      "Epoch [2/5], Step[2600/3481], Loss: 4.0674, Perplexity: 58.41\n",
      "Epoch [2/5], Step[2700/3481], Loss: 4.3742, Perplexity: 79.37\n",
      "Epoch [2/5], Step[2800/3481], Loss: 4.2871, Perplexity: 72.75\n",
      "Epoch [2/5], Step[2900/3481], Loss: 4.0876, Perplexity: 59.59\n",
      "Epoch [2/5], Step[3000/3481], Loss: 4.2895, Perplexity: 72.93\n",
      "Epoch [2/5], Step[3100/3481], Loss: 4.0759, Perplexity: 58.90\n",
      "Epoch [2/5], Step[3200/3481], Loss: 3.9139, Perplexity: 50.09\n",
      "Epoch [2/5], Step[3300/3481], Loss: 4.1761, Perplexity: 65.11\n",
      "Epoch [2/5], Step[3400/3481], Loss: 4.3397, Perplexity: 76.69\n",
      "Epoch [3/5], Step[0/3481], Loss: 4.2089, Perplexity: 67.28\n",
      "Epoch [3/5], Step[100/3481], Loss: 4.1417, Perplexity: 62.91\n",
      "Epoch [3/5], Step[200/3481], Loss: 4.1865, Perplexity: 65.79\n",
      "Epoch [3/5], Step[300/3481], Loss: 3.9877, Perplexity: 53.93\n",
      "Epoch [3/5], Step[400/3481], Loss: 3.9102, Perplexity: 49.91\n",
      "Epoch [3/5], Step[500/3481], Loss: 3.8714, Perplexity: 48.01\n",
      "Epoch [3/5], Step[600/3481], Loss: 3.6853, Perplexity: 39.86\n",
      "Epoch [3/5], Step[700/3481], Loss: 3.8069, Perplexity: 45.01\n",
      "Epoch [3/5], Step[800/3481], Loss: 3.7551, Perplexity: 42.74\n",
      "Epoch [3/5], Step[900/3481], Loss: 3.8993, Perplexity: 49.37\n",
      "Epoch [3/5], Step[1000/3481], Loss: 3.9990, Perplexity: 54.54\n",
      "Epoch [3/5], Step[1100/3481], Loss: 3.9189, Perplexity: 50.35\n",
      "Epoch [3/5], Step[1200/3481], Loss: 3.7099, Perplexity: 40.85\n",
      "Epoch [3/5], Step[1300/3481], Loss: 3.8006, Perplexity: 44.73\n",
      "Epoch [3/5], Step[1400/3481], Loss: 3.7038, Perplexity: 40.60\n",
      "Epoch [3/5], Step[1500/3481], Loss: 3.8122, Perplexity: 45.25\n",
      "Epoch [3/5], Step[1600/3481], Loss: 3.5699, Perplexity: 35.51\n",
      "Epoch [3/5], Step[1700/3481], Loss: 3.5833, Perplexity: 35.99\n",
      "Epoch [3/5], Step[1800/3481], Loss: 4.0103, Perplexity: 55.16\n",
      "Epoch [3/5], Step[1900/3481], Loss: 3.3588, Perplexity: 28.75\n",
      "Epoch [3/5], Step[2000/3481], Loss: 3.7904, Perplexity: 44.28\n",
      "Epoch [3/5], Step[2100/3481], Loss: 3.7017, Perplexity: 40.52\n",
      "Epoch [3/5], Step[2200/3481], Loss: 3.6608, Perplexity: 38.89\n",
      "Epoch [3/5], Step[2300/3481], Loss: 3.7212, Perplexity: 41.31\n",
      "Epoch [3/5], Step[2400/3481], Loss: 3.7951, Perplexity: 44.48\n",
      "Epoch [3/5], Step[2500/3481], Loss: 3.5125, Perplexity: 33.53\n",
      "Epoch [3/5], Step[2600/3481], Loss: 3.5604, Perplexity: 35.18\n",
      "Epoch [3/5], Step[2700/3481], Loss: 3.6532, Perplexity: 38.60\n",
      "Epoch [3/5], Step[2800/3481], Loss: 3.5433, Perplexity: 34.58\n",
      "Epoch [3/5], Step[2900/3481], Loss: 3.4148, Perplexity: 30.41\n",
      "Epoch [3/5], Step[3000/3481], Loss: 3.6652, Perplexity: 39.06\n",
      "Epoch [3/5], Step[3100/3481], Loss: 3.4368, Perplexity: 31.09\n",
      "Epoch [3/5], Step[3200/3481], Loss: 3.2947, Perplexity: 26.97\n",
      "Epoch [3/5], Step[3300/3481], Loss: 3.5556, Perplexity: 35.01\n",
      "Epoch [3/5], Step[3400/3481], Loss: 3.7507, Perplexity: 42.55\n",
      "Epoch [4/5], Step[0/3481], Loss: 3.6288, Perplexity: 37.67\n",
      "Epoch [4/5], Step[100/3481], Loss: 3.5732, Perplexity: 35.63\n",
      "Epoch [4/5], Step[200/3481], Loss: 3.6171, Perplexity: 37.23\n",
      "Epoch [4/5], Step[300/3481], Loss: 3.5107, Perplexity: 33.47\n",
      "Epoch [4/5], Step[400/3481], Loss: 3.3944, Perplexity: 29.80\n",
      "Epoch [4/5], Step[500/3481], Loss: 3.4158, Perplexity: 30.44\n",
      "Epoch [4/5], Step[600/3481], Loss: 3.1699, Perplexity: 23.80\n",
      "Epoch [4/5], Step[700/3481], Loss: 3.3277, Perplexity: 27.87\n",
      "Epoch [4/5], Step[800/3481], Loss: 3.2966, Perplexity: 27.02\n",
      "Epoch [4/5], Step[900/3481], Loss: 3.4338, Perplexity: 31.00\n",
      "Epoch [4/5], Step[1000/3481], Loss: 3.5529, Perplexity: 34.91\n",
      "Epoch [4/5], Step[1100/3481], Loss: 3.5041, Perplexity: 33.25\n",
      "Epoch [4/5], Step[1200/3481], Loss: 3.2716, Perplexity: 26.35\n",
      "Epoch [4/5], Step[1300/3481], Loss: 3.4112, Perplexity: 30.30\n",
      "Epoch [4/5], Step[1400/3481], Loss: 3.2933, Perplexity: 26.93\n",
      "Epoch [4/5], Step[1500/3481], Loss: 3.3791, Perplexity: 29.35\n",
      "Epoch [4/5], Step[1600/3481], Loss: 3.2381, Perplexity: 25.49\n",
      "Epoch [4/5], Step[1700/3481], Loss: 3.0923, Perplexity: 22.03\n",
      "Epoch [4/5], Step[1800/3481], Loss: 3.5867, Perplexity: 36.12\n",
      "Epoch [4/5], Step[1900/3481], Loss: 3.0032, Perplexity: 20.15\n",
      "Epoch [4/5], Step[2000/3481], Loss: 3.3874, Perplexity: 29.59\n",
      "Epoch [4/5], Step[2100/3481], Loss: 3.3973, Perplexity: 29.88\n",
      "Epoch [4/5], Step[2200/3481], Loss: 3.3840, Perplexity: 29.49\n",
      "Epoch [4/5], Step[2300/3481], Loss: 3.4321, Perplexity: 30.94\n",
      "Epoch [4/5], Step[2400/3481], Loss: 3.3937, Perplexity: 29.78\n",
      "Epoch [4/5], Step[2500/3481], Loss: 3.0695, Perplexity: 21.53\n",
      "Epoch [4/5], Step[2600/3481], Loss: 3.2401, Perplexity: 25.54\n",
      "Epoch [4/5], Step[2700/3481], Loss: 3.3062, Perplexity: 27.28\n"
     ]
    },
    {
     "name": "stdout",
     "output_type": "stream",
     "text": [
      "Epoch [4/5], Step[2800/3481], Loss: 3.1975, Perplexity: 24.47\n",
      "Epoch [4/5], Step[2900/3481], Loss: 3.0659, Perplexity: 21.45\n",
      "Epoch [4/5], Step[3000/3481], Loss: 3.2836, Perplexity: 26.67\n",
      "Epoch [4/5], Step[3100/3481], Loss: 3.0131, Perplexity: 20.35\n",
      "Epoch [4/5], Step[3200/3481], Loss: 2.8731, Perplexity: 17.69\n",
      "Epoch [4/5], Step[3300/3481], Loss: 3.1699, Perplexity: 23.81\n",
      "Epoch [4/5], Step[3400/3481], Loss: 3.4111, Perplexity: 30.30\n",
      "Epoch [5/5], Step[0/3481], Loss: 3.2971, Perplexity: 27.04\n",
      "Epoch [5/5], Step[100/3481], Loss: 3.2346, Perplexity: 25.40\n",
      "Epoch [5/5], Step[200/3481], Loss: 3.3147, Perplexity: 27.51\n",
      "Epoch [5/5], Step[300/3481], Loss: 3.1963, Perplexity: 24.44\n",
      "Epoch [5/5], Step[400/3481], Loss: 3.1252, Perplexity: 22.76\n",
      "Epoch [5/5], Step[500/3481], Loss: 3.0337, Perplexity: 20.77\n",
      "Epoch [5/5], Step[600/3481], Loss: 2.8760, Perplexity: 17.74\n",
      "Epoch [5/5], Step[700/3481], Loss: 3.0141, Perplexity: 20.37\n",
      "Epoch [5/5], Step[800/3481], Loss: 3.0460, Perplexity: 21.03\n",
      "Epoch [5/5], Step[900/3481], Loss: 3.1190, Perplexity: 22.62\n",
      "Epoch [5/5], Step[1000/3481], Loss: 3.2653, Perplexity: 26.19\n",
      "Epoch [5/5], Step[1100/3481], Loss: 3.2871, Perplexity: 26.77\n",
      "Epoch [5/5], Step[1200/3481], Loss: 3.0711, Perplexity: 21.57\n",
      "Epoch [5/5], Step[1300/3481], Loss: 3.2048, Perplexity: 24.65\n",
      "Epoch [5/5], Step[1400/3481], Loss: 2.9804, Perplexity: 19.70\n",
      "Epoch [5/5], Step[1500/3481], Loss: 3.1974, Perplexity: 24.47\n",
      "Epoch [5/5], Step[1600/3481], Loss: 3.0659, Perplexity: 21.45\n",
      "Epoch [5/5], Step[1700/3481], Loss: 2.8415, Perplexity: 17.14\n",
      "Epoch [5/5], Step[1800/3481], Loss: 3.4001, Perplexity: 29.97\n",
      "Epoch [5/5], Step[1900/3481], Loss: 2.7930, Perplexity: 16.33\n",
      "Epoch [5/5], Step[2000/3481], Loss: 3.1073, Perplexity: 22.36\n",
      "Epoch [5/5], Step[2100/3481], Loss: 3.1624, Perplexity: 23.63\n",
      "Epoch [5/5], Step[2200/3481], Loss: 3.1645, Perplexity: 23.68\n",
      "Epoch [5/5], Step[2300/3481], Loss: 3.1519, Perplexity: 23.38\n",
      "Epoch [5/5], Step[2400/3481], Loss: 3.2276, Perplexity: 25.22\n",
      "Epoch [5/5], Step[2500/3481], Loss: 2.8674, Perplexity: 17.59\n",
      "Epoch [5/5], Step[2600/3481], Loss: 3.0141, Perplexity: 20.37\n",
      "Epoch [5/5], Step[2700/3481], Loss: 3.1020, Perplexity: 22.24\n",
      "Epoch [5/5], Step[2800/3481], Loss: 2.9857, Perplexity: 19.80\n",
      "Epoch [5/5], Step[2900/3481], Loss: 2.8654, Perplexity: 17.56\n",
      "Epoch [5/5], Step[3000/3481], Loss: 3.0475, Perplexity: 21.06\n",
      "Epoch [5/5], Step[3100/3481], Loss: 2.8455, Perplexity: 17.21\n",
      "Epoch [5/5], Step[3200/3481], Loss: 2.6828, Perplexity: 14.63\n",
      "Epoch [5/5], Step[3300/3481], Loss: 2.9992, Perplexity: 20.07\n",
      "Epoch [5/5], Step[3400/3481], Loss: 3.2329, Perplexity: 25.35\n"
     ]
    }
   ],
   "source": [
    "# Train the model\n",
    "for epoch in range(num_epochs):\n",
    "    # Set initial hidden and cell states\n",
    "    states = (torch.zeros(num_layers, batch_size, hidden_size).to(device),\n",
    "              torch.zeros(num_layers, batch_size, hidden_size).to(device))\n",
    "    \n",
    "    for i in range(0, ids.size(1) - seq_length, seq_length):\n",
    "        # Get mini-batch inputs and targets\n",
    "        inputs = ids[:, i:i+seq_length].to(device)\n",
    "        targets = ids[:, (i+1):(i+1)+seq_length].to(device)\n",
    "        \n",
    "        # Forward pass\n",
    "        states = detach(states)\n",
    "        outputs, states = model(inputs, states)\n",
    "        loss = criterion(outputs, targets.reshape(-1))\n",
    "        \n",
    "        # Backward and optimize\n",
    "        optimizer.zero_grad()\n",
    "        loss.backward()\n",
    "        clip_grad_norm_(model.parameters(), 0.5)\n",
    "        optimizer.step()\n",
    "\n",
    "        step = (i+1) // seq_length\n",
    "        if step % 100 == 0:\n",
    "            print ('Epoch [{}/{}], Step[{}/{}], Loss: {:.4f}, Perplexity: {:5.2f}'\n",
    "                   .format(epoch+1, num_epochs, step, num_batches, loss.item(), np.exp(loss.item())))"
   ]
  },
  {
   "cell_type": "code",
   "execution_count": 9,
   "metadata": {
    "ExecuteTime": {
     "end_time": "2020-12-02T13:09:54.536277Z",
     "start_time": "2020-12-02T13:09:47.193063Z"
    }
   },
   "outputs": [
    {
     "name": "stdout",
     "output_type": "stream",
     "text": [
      "Sampled [100/1000] words and save to sample.txt\n",
      "Sampled [200/1000] words and save to sample.txt\n",
      "Sampled [300/1000] words and save to sample.txt\n",
      "Sampled [400/1000] words and save to sample.txt\n",
      "Sampled [500/1000] words and save to sample.txt\n",
      "Sampled [600/1000] words and save to sample.txt\n",
      "Sampled [700/1000] words and save to sample.txt\n",
      "Sampled [800/1000] words and save to sample.txt\n",
      "Sampled [900/1000] words and save to sample.txt\n",
      "Sampled [1000/1000] words and save to sample.txt\n"
     ]
    }
   ],
   "source": [
    "# Test the model\n",
    "with torch.no_grad():\n",
    "    with open('sample.txt', 'w') as f:\n",
    "        # Set intial hidden ane cell states\n",
    "        state = (torch.zeros(num_layers, 1, hidden_size).to(device),\n",
    "                 torch.zeros(num_layers, 1, hidden_size).to(device))\n",
    "\n",
    "        # Select one word id randomly\n",
    "        prob = torch.ones(vocab_size)\n",
    "        input = torch.multinomial(prob, num_samples=1).unsqueeze(1).to(device)\n",
    "\n",
    "        for i in range(num_samples):\n",
    "            # Forward propagate RNN \n",
    "            output, state = model(input, state)\n",
    "\n",
    "            # Sample a word id\n",
    "            prob = output.exp()\n",
    "            word_id = torch.multinomial(prob, num_samples=1).item()\n",
    "\n",
    "            # Fill input with sampled word id for the next time step\n",
    "            input.fill_(word_id)\n",
    "\n",
    "            # File write\n",
    "            word = corpus.dictionary.idx2word[word_id]\n",
    "            word = '\\n' if word == '<eos>' else word + ' '\n",
    "            f.write(word)\n",
    "\n",
    "            if (i+1) % 100 == 0:\n",
    "                print('Sampled [{}/{}] words and save to {}'.format(i+1, num_samples, 'sample.txt'))"
   ]
  }
 ],
 "metadata": {
  "kernelspec": {
   "display_name": "Python 3",
   "language": "python",
   "name": "python3"
  },
  "language_info": {
   "codemirror_mode": {
    "name": "ipython",
    "version": 3
   },
   "file_extension": ".py",
   "mimetype": "text/x-python",
   "name": "python",
   "nbconvert_exporter": "python",
   "pygments_lexer": "ipython3",
   "version": "3.7.3"
  },
  "toc": {
   "base_numbering": 1,
   "nav_menu": {},
   "number_sections": true,
   "sideBar": true,
   "skip_h1_title": false,
   "title_cell": "Table of Contents",
   "title_sidebar": "Contents",
   "toc_cell": false,
   "toc_position": {},
   "toc_section_display": true,
   "toc_window_display": false
  }
 },
 "nbformat": 4,
 "nbformat_minor": 4
}
