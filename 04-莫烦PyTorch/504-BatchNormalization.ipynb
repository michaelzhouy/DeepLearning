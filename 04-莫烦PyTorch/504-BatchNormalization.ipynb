{
 "cells": [
  {
   "cell_type": "code",
   "execution_count": 1,
   "metadata": {
    "ExecuteTime": {
     "end_time": "2020-09-10T08:43:32.906027Z",
     "start_time": "2020-09-10T08:43:32.242437Z"
    }
   },
   "outputs": [],
   "source": [
    "import torch\n",
    "from torch.autograd import Variable\n",
    "from torch import nn\n",
    "from torch.nn import init\n",
    "import torch.utils.data as Data\n",
    "import torch.nn.functional as F\n",
    "import matplotlib.pyplot as plt\n",
    "import numpy as np\n",
    "\n",
    "%matplotlib inline"
   ]
  },
  {
   "cell_type": "code",
   "execution_count": 2,
   "metadata": {
    "ExecuteTime": {
     "end_time": "2020-09-10T08:43:32.912455Z",
     "start_time": "2020-09-10T08:43:32.906953Z"
    }
   },
   "outputs": [],
   "source": [
    "torch.manual_seed(1)    # reproducible\n",
    "np.random.seed(1)"
   ]
  },
  {
   "cell_type": "code",
   "execution_count": 3,
   "metadata": {
    "ExecuteTime": {
     "end_time": "2020-09-10T08:43:32.926435Z",
     "start_time": "2020-09-10T08:43:32.913450Z"
    }
   },
   "outputs": [],
   "source": [
    "# Hyper parameters\n",
    "N_SAMPLES = 2000\n",
    "BATCH_SIZE = 64\n",
    "EPOCH = 12\n",
    "LR = 0.03\n",
    "N_HIDDEN = 8\n",
    "ACTIVATION = torch.tanh\n",
    "B_INIT = -0.2   # use a bad bias constant initializer"
   ]
  },
  {
   "cell_type": "code",
   "execution_count": 4,
   "metadata": {
    "ExecuteTime": {
     "end_time": "2020-09-10T08:43:33.070097Z",
     "start_time": "2020-09-10T08:43:32.927432Z"
    }
   },
   "outputs": [
    {
     "data": {
      "text/plain": [
       "<matplotlib.legend.Legend at 0x19790132748>"
      ]
     },
     "execution_count": 4,
     "metadata": {},
     "output_type": "execute_result"
    },
    {
     "data": {
      "image/png": "[encoded data removed]",
      "text/plain": [
       "<Figure size 432x288 with 1 Axes>"
      ]
     },
     "metadata": {
      "needs_background": "light"
     },
     "output_type": "display_data"
    }
   ],
   "source": [
    "# training data\n",
    "x = np.linspace(-7, 10, N_SAMPLES)[:, np.newaxis]\n",
    "noise = np.random.normal(0, 2, x.shape)\n",
    "y = np.square(x) - 5 + noise\n",
    "\n",
    "# test data\n",
    "test_x = np.linspace(-7, 10, 200)[:, np.newaxis]\n",
    "noise = np.random.normal(0, 2, test_x.shape)\n",
    "test_y = np.square(test_x) - 5 + noise\n",
    "\n",
    "train_x, train_y = torch.from_numpy(x).float(), torch.from_numpy(y).float()\n",
    "\n",
    "test_x = Variable(torch.from_numpy(test_x).float(), requires_grad=True)  # not for computing gradients\n",
    "test_y = Variable(torch.from_numpy(test_y).float(), requires_grad=True)\n",
    "\n",
    "train_dataset = Data.TensorDataset(train_x, train_y)\n",
    "train_loader = Data.DataLoader(dataset=train_dataset,\n",
    "                               batch_size=BATCH_SIZE,\n",
    "                               shuffle=True,\n",
    "                               num_workers=2)\n",
    "\n",
    "# show data\n",
    "plt.scatter(train_x.numpy(), train_y.numpy(),\n",
    "            c='#FF9359',\n",
    "            s=50,\n",
    "            alpha=0.2,\n",
    "            label='train')\n",
    "plt.legend(loc='upper left')"
   ]
  },
  {
   "cell_type": "code",
   "execution_count": 5,
   "metadata": {
    "ExecuteTime": {
     "end_time": "2020-09-10T08:43:33.081024Z",
     "start_time": "2020-09-10T08:43:33.071079Z"
    }
   },
   "outputs": [],
   "source": [
    "class Net(nn.Module):\n",
    "    def __init__(self, batch_normalization=False):\n",
    "        super(Net, self).__init__()\n",
    "        self.do_bn = batch_normalization\n",
    "        self.fcs = []\n",
    "        self.bns = []\n",
    "        self.bn_input = nn.BatchNorm1d(1, momentum=0.5)   # for input data\n",
    "\n",
    "        for i in range(N_HIDDEN):               # build hidden layers and BN layers\n",
    "            input_size = 1 if i == 0 else 10\n",
    "            fc = nn.Linear(input_size, 10)\n",
    "            setattr(self, 'fc{}'.format(i), fc)       # IMPORTANT set layer to the Module\n",
    "            self._set_init(fc)                  # parameters initialization\n",
    "            self.fcs.append(fc)\n",
    "            if self.do_bn:\n",
    "                bn = nn.BatchNorm1d(10, momentum=0.5)\n",
    "                setattr(self, 'bn{}'.format(i), bn)   # IMPORTANT set layer to the Module\n",
    "                self.bns.append(bn)\n",
    "\n",
    "        self.predict = nn.Linear(10, 1)         # output layer\n",
    "        self._set_init(self.predict)            # parameters initialization\n",
    "\n",
    "    def _set_init(self, layer):\n",
    "        init.normal_(layer.weight, mean=0., std=.1)\n",
    "        init.constant_(layer.bias, B_INIT)\n",
    "\n",
    "    def forward(self, x):\n",
    "        pre_activation = [x]\n",
    "        if self.do_bn:\n",
    "            x = self.bn_input(x)     # input batch normalization\n",
    "        layer_input = [x]\n",
    "        for i in range(N_HIDDEN):\n",
    "            x = self.fcs[i](x)\n",
    "            pre_activation.append(x)\n",
    "            if self.do_bn:\n",
    "                x = self.bns[i](x)   # batch normalization\n",
    "            x = ACTIVATION(x)\n",
    "            layer_input.append(x)\n",
    "        out = self.predict(x)\n",
    "        return out, layer_input, pre_activation"
   ]
  },
  {
   "cell_type": "code",
   "execution_count": 6,
   "metadata": {
    "ExecuteTime": {
     "end_time": "2020-09-10T08:43:33.094985Z",
     "start_time": "2020-09-10T08:43:33.082018Z"
    }
   },
   "outputs": [
    {
     "name": "stdout",
     "output_type": "stream",
     "text": [
      "Net(\n",
      "  (bn_input): BatchNorm1d(1, eps=1e-05, momentum=0.5, affine=True, track_running_stats=True)\n",
      "  (fc0): Linear(in_features=1, out_features=10, bias=True)\n",
      "  (fc1): Linear(in_features=10, out_features=10, bias=True)\n",
      "  (fc2): Linear(in_features=10, out_features=10, bias=True)\n",
      "  (fc3): Linear(in_features=10, out_features=10, bias=True)\n",
      "  (fc4): Linear(in_features=10, out_features=10, bias=True)\n",
      "  (fc5): Linear(in_features=10, out_features=10, bias=True)\n",
      "  (fc6): Linear(in_features=10, out_features=10, bias=True)\n",
      "  (fc7): Linear(in_features=10, out_features=10, bias=True)\n",
      "  (predict): Linear(in_features=10, out_features=1, bias=True)\n",
      ") Net(\n",
      "  (bn_input): BatchNorm1d(1, eps=1e-05, momentum=0.5, affine=True, track_running_stats=True)\n",
      "  (fc0): Linear(in_features=1, out_features=10, bias=True)\n",
      "  (bn0): BatchNorm1d(10, eps=1e-05, momentum=0.5, affine=True, track_running_stats=True)\n",
      "  (fc1): Linear(in_features=10, out_features=10, bias=True)\n",
      "  (bn1): BatchNorm1d(10, eps=1e-05, momentum=0.5, affine=True, track_running_stats=True)\n",
      "  (fc2): Linear(in_features=10, out_features=10, bias=True)\n",
      "  (bn2): BatchNorm1d(10, eps=1e-05, momentum=0.5, affine=True, track_running_stats=True)\n",
      "  (fc3): Linear(in_features=10, out_features=10, bias=True)\n",
      "  (bn3): BatchNorm1d(10, eps=1e-05, momentum=0.5, affine=True, track_running_stats=True)\n",
      "  (fc4): Linear(in_features=10, out_features=10, bias=True)\n",
      "  (bn4): BatchNorm1d(10, eps=1e-05, momentum=0.5, affine=True, track_running_stats=True)\n",
      "  (fc5): Linear(in_features=10, out_features=10, bias=True)\n",
      "  (bn5): BatchNorm1d(10, eps=1e-05, momentum=0.5, affine=True, track_running_stats=True)\n",
      "  (fc6): Linear(in_features=10, out_features=10, bias=True)\n",
      "  (bn6): BatchNorm1d(10, eps=1e-05, momentum=0.5, affine=True, track_running_stats=True)\n",
      "  (fc7): Linear(in_features=10, out_features=10, bias=True)\n",
      "  (bn7): BatchNorm1d(10, eps=1e-05, momentum=0.5, affine=True, track_running_stats=True)\n",
      "  (predict): Linear(in_features=10, out_features=1, bias=True)\n",
      ")\n"
     ]
    }
   ],
   "source": [
    "nets = [Net(batch_normalization=False), Net(batch_normalization=True)]\n",
    "\n",
    "print(*nets)    # print net architecture"
   ]
  },
  {
   "cell_type": "code",
   "execution_count": 7,
   "metadata": {
    "ExecuteTime": {
     "end_time": "2020-09-10T08:43:33.101996Z",
     "start_time": "2020-09-10T08:43:33.097977Z"
    }
   },
   "outputs": [],
   "source": [
    "opts = [torch.optim.Adam(net.parameters(), lr=LR) for net in nets]\n",
    "\n",
    "loss_func = torch.nn.MSELoss()"
   ]
  },
  {
   "cell_type": "code",
   "execution_count": 8,
   "metadata": {
    "ExecuteTime": {
     "end_time": "2020-09-10T08:44:00.364049Z",
     "start_time": "2020-09-10T08:43:33.102964Z"
    }
   },
   "outputs": [
    {
     "name": "stdout",
     "output_type": "stream",
     "text": [
      "Epoch:  0\n"
     ]
    },
    {
     "data": {
      "image/png": "[encoded data removed]",
      "text/plain": [
       "<Figure size 720x360 with 36 Axes>"
      ]
     },
     "metadata": {
      "needs_background": "light"
     },
     "output_type": "display_data"
    },
    {
     "name": "stdout",
     "output_type": "stream",
     "text": [
      "Epoch:  1\n",
      "Epoch:  2\n",
      "Epoch:  3\n",
      "Epoch:  4\n",
      "Epoch:  5\n",
      "Epoch:  6\n",
      "Epoch:  7\n",
      "Epoch:  8\n",
      "Epoch:  9\n",
      "Epoch:  10\n",
      "Epoch:  11\n"
     ]
    }
   ],
   "source": [
    "f, axs = plt.subplots(4, N_HIDDEN + 1, figsize=(10, 5))\n",
    "plt.ion()   # something about plotting\n",
    "def plot_histogram(l_in, l_in_bn, pre_ac, pre_ac_bn):\n",
    "    for i, (ax_pa, ax_pa_bn, ax,  ax_bn) in enumerate(zip(axs[0, :], axs[1, :], axs[2, :], axs[3, :])):\n",
    "        [a.clear() for a in [ax_pa, ax_pa_bn, ax, ax_bn]]\n",
    "        if i == 0:\n",
    "            p_range = (-7, 10)\n",
    "            the_range = (-7, 10)\n",
    "        else:\n",
    "            p_range = (-4, 4)\n",
    "            the_range = (-1, 1)\n",
    "        ax_pa.set_title('L' + str(i))\n",
    "        ax_pa.hist(pre_ac[i].data.numpy().ravel(),\n",
    "                   bins=10,\n",
    "                   range=p_range,\n",
    "                   color='#FF9359',\n",
    "                   alpha=0.5)\n",
    "        ax_pa_bn.hist(pre_ac_bn[i].data.numpy().ravel(),\n",
    "                      bins=10,\n",
    "                      range=p_range,\n",
    "                      color='#74BCFF',\n",
    "                      alpha=0.5)\n",
    "        ax.hist(l_in[i].data.numpy().ravel(),\n",
    "                bins=10,\n",
    "                range=the_range,\n",
    "                color='#FF9359')\n",
    "        ax_bn.hist(l_in_bn[i].data.numpy().ravel(),\n",
    "                   bins=10,\n",
    "                   range=the_range,\n",
    "                   color='#74BCFF')\n",
    "        for a in [ax_pa, ax, ax_pa_bn, ax_bn]:\n",
    "            a.set_yticks(())\n",
    "            a.set_xticks(())\n",
    "        ax_pa_bn.set_xticks(p_range)\n",
    "        ax_bn.set_xticks(the_range)\n",
    "        axs[0, 0].set_ylabel('PreAct')\n",
    "        axs[1, 0].set_ylabel('BN PreAct')\n",
    "        axs[2, 0].set_ylabel('Act')\n",
    "        axs[3, 0].set_ylabel('BN Act')\n",
    "    plt.pause(0.01)\n",
    "    \n",
    "# training\n",
    "losses = [[], []]  # recode loss for two networks\n",
    "for epoch in range(EPOCH):\n",
    "    print('Epoch: ', epoch)\n",
    "    layer_inputs, pre_acts = [], []\n",
    "    for net, l in zip(nets, losses):\n",
    "        net.eval()              # set eval mode to fix moving_mean and moving_var\n",
    "        pred, layer_input, pre_act = net(test_x)\n",
    "        l.append(loss_func(pred, test_y).item())\n",
    "        layer_inputs.append(layer_input)\n",
    "        pre_acts.append(pre_act)\n",
    "        net.train()             # free moving_mean and moving_var\n",
    "    plot_histogram(*layer_inputs, *pre_acts)     # plot histogram\n",
    "\n",
    "    for step, (b_x, b_y) in enumerate(train_loader):\n",
    "        b_x, b_y = Variable(b_x), Variable(b_y)\n",
    "        for net, opt in zip(nets, opts):     # train for each network\n",
    "            pred, _, _ = net(b_x)\n",
    "            loss = loss_func(pred, b_y)\n",
    "            opt.zero_grad()\n",
    "            loss.backward()\n",
    "            opt.step()    # it will also learns the parameters in Batch Normalization\n",
    "            \n",
    "plt.ioff()"
   ]
  },
  {
   "cell_type": "code",
   "execution_count": 9,
   "metadata": {
    "ExecuteTime": {
     "end_time": "2020-09-10T08:44:00.763004Z",
     "start_time": "2020-09-10T08:44:00.367041Z"
    }
   },
   "outputs": [
    {
     "data": {
      "image/png": "[encoded data removed]",
      "text/plain": [
       "<Figure size 432x288 with 1 Axes>"
      ]
     },
     "metadata": {
      "needs_background": "light"
     },
     "output_type": "display_data"
    },
    {
     "data": {
      "image/png": "[encoded data removed]",
      "text/plain": [
       "<Figure size 432x288 with 1 Axes>"
      ]
     },
     "metadata": {
      "needs_background": "light"
     },
     "output_type": "display_data"
    }
   ],
   "source": [
    "# plot training loss\n",
    "plt.figure(2)\n",
    "plt.plot(losses[0],\n",
    "         c='#FF9359',\n",
    "         lw=3,\n",
    "         label='Original')\n",
    "plt.plot(losses[1],\n",
    "         c='#74BCFF',\n",
    "         lw=3,\n",
    "         label='Batch Normalization')\n",
    "plt.xlabel('step')\n",
    "plt.ylabel('test loss')\n",
    "plt.ylim((0, 2000))\n",
    "plt.legend(loc='best')\n",
    "\n",
    "# evaluation\n",
    "# set net to eval mode to freeze the parameters in batch normalization layers\n",
    "[net.eval() for net in nets]    # set eval mode to fix moving_mean and moving_var\n",
    "preds = [net(test_x)[0] for net in nets]\n",
    "\n",
    "plt.figure(3)\n",
    "plt.plot(test_x.data.numpy(), preds[0].data.numpy(),\n",
    "         c='#FF9359',\n",
    "         lw=4,\n",
    "         label='Original')\n",
    "plt.plot(test_x.data.numpy(), preds[1].data.numpy(),\n",
    "         c='#74BCFF',\n",
    "         lw=4,\n",
    "         label='Batch Normalization')\n",
    "plt.scatter(test_x.data.numpy(), test_y.data.numpy(),\n",
    "            c='r',\n",
    "            s=50,\n",
    "            alpha=0.2,\n",
    "            label='train')\n",
    "plt.legend(loc='best')\n",
    "plt.show()"
   ]
  }
 ],
 "metadata": {
  "kernelspec": {
   "display_name": "Python 3",
   "language": "python",
   "name": "python3"
  },
  "language_info": {
   "codemirror_mode": {
    "name": "ipython",
    "version": 3
   },
   "file_extension": ".py",
   "mimetype": "text/x-python",
   "name": "python",
   "nbconvert_exporter": "python",
   "pygments_lexer": "ipython3",
   "version": "3.7.3"
  },
  "toc": {
   "base_numbering": 1,
   "nav_menu": {},
   "number_sections": true,
   "sideBar": true,
   "skip_h1_title": false,
   "title_cell": "Table of Contents",
   "title_sidebar": "Contents",
   "toc_cell": false,
   "toc_position": {},
   "toc_section_display": true,
   "toc_window_display": false
  },
  "varInspector": {
   "cols": {
    "lenName": 16,
    "lenType": 16,
    "lenVar": 40
   },
   "kernels_config": {
    "python": {
     "delete_cmd_postfix": "",
     "delete_cmd_prefix": "del ",
     "library": "var_list.py",
     "varRefreshCmd": "print(var_dic_list())"
    },
    "r": {
     "delete_cmd_postfix": ") ",
     "delete_cmd_prefix": "rm(",
     "library": "var_list.r",
     "varRefreshCmd": "cat(var_dic_list()) "
    }
   },
   "types_to_exclude": [
    "module",
    "function",
    "builtin_function_or_method",
    "instance",
    "_Feature"
   ],
   "window_display": false
  }
 },
 "nbformat": 4,
 "nbformat_minor": 4
}
